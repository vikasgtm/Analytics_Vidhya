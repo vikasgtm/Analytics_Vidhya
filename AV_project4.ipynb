{
  "cells": [
    {
      "cell_type": "markdown",
      "metadata": {
        "id": "view-in-github",
        "colab_type": "text"
      },
      "source": [
        "<a href=\"https://colab.research.google.com/github/vikasgtm/Analytics_Vidhya/blob/main/AV_project4.ipynb\" target=\"_parent\"><img src=\"https://colab.research.google.com/assets/colab-badge.svg\" alt=\"Open In Colab\"/></a>"
      ]
    },
    {
      "cell_type": "markdown",
      "id": "884167fe",
      "metadata": {
        "id": "884167fe"
      },
      "source": [
        "# AV Project 4\n",
        "# EDA and Effect of outliers on Regression-Visualization\n",
        "# Submitted by: Vikas Gautam,\n",
        "# mail-id: vikasgtm@gmail.com"
      ]
    },
    {
      "cell_type": "markdown",
      "id": "17365c94",
      "metadata": {
        "id": "17365c94"
      },
      "source": [
        "# Category: Equity, Stocks"
      ]
    },
    {
      "cell_type": "code",
      "execution_count": 1,
      "id": "fa68cab8",
      "metadata": {
        "id": "fa68cab8"
      },
      "outputs": [],
      "source": [
        "import statsmodels\n",
        "import statsmodels.api as sm\n",
        "import numpy as np\n",
        "#from statsmodels.tsa.stattools import adfuller, kpss"
      ]
    },
    {
      "cell_type": "code",
      "execution_count": 11,
      "id": "361f77c3",
      "metadata": {
        "id": "361f77c3"
      },
      "outputs": [],
      "source": [
        "#!pip install pmdarima"
      ]
    },
    {
      "cell_type": "code",
      "execution_count": 3,
      "id": "461935fd",
      "metadata": {
        "id": "461935fd"
      },
      "outputs": [],
      "source": [
        "import yfinance as yf\n",
        "import pandas as pd\n",
        "import numpy as np\n",
        "from scipy.stats import skew, kurtosis\n",
        "from scipy import stats\n",
        "\n",
        "import seaborn as sns\n",
        "import math\n",
        "from pmdarima.arima import auto_arima\n",
        "\n",
        "from statsmodels.tsa.statespace.sarimax import SARIMAX\n",
        "import warnings                   # To ignore the warnings\n",
        "warnings.filterwarnings(\"ignore\")"
      ]
    },
    {
      "cell_type": "code",
      "execution_count": 4,
      "id": "37a7fb77",
      "metadata": {
        "id": "37a7fb77"
      },
      "outputs": [],
      "source": [
        "import statsmodels.api as sm\n",
        "import statsmodels.formula.api as smf\n",
        "import statsmodels.stats.api as sms\n",
        "from statsmodels.graphics.regressionplots import abline_plot\n",
        "import matplotlib.pyplot as plt\n",
        "%matplotlib inline"
      ]
    },
    {
      "cell_type": "code",
      "execution_count": 5,
      "id": "6385783c",
      "metadata": {
        "id": "6385783c"
      },
      "outputs": [],
      "source": [
        "from scipy import stats\n",
        "import pylab\n",
        "from sklearn.linear_model import Lasso, LassoCV, Ridge, RidgeCV\n",
        "plt.rcParams[\"figure.figsize\"] = (10, 8)  # Figure size and width"
      ]
    },
    {
      "cell_type": "code",
      "execution_count": null,
      "id": "1bb4cc49",
      "metadata": {
        "id": "1bb4cc49"
      },
      "outputs": [],
      "source": []
    },
    {
      "cell_type": "markdown",
      "id": "4e7bb9b5",
      "metadata": {
        "id": "4e7bb9b5"
      },
      "source": [
        "## Equity/Stocks: Apple"
      ]
    },
    {
      "cell_type": "code",
      "execution_count": 6,
      "id": "4bd62cbc",
      "metadata": {
        "colab": {
          "base_uri": "https://localhost:8080/",
          "height": 318
        },
        "id": "4bd62cbc",
        "outputId": "fe304b18-d01c-4eef-97e2-c7e2c1de58ed"
      },
      "outputs": [
        {
          "output_type": "stream",
          "name": "stderr",
          "text": [
            "\r[*********************100%%**********************]  1 of 1 completed\n"
          ]
        },
        {
          "output_type": "execute_result",
          "data": {
            "text/plain": [
              "              Open         High          Low        Close    Adj Close  \\\n",
              "count  1340.000000  1340.000000  1340.000000  1340.000000  1340.000000   \n",
              "mean    126.315830   127.734616   125.002485   126.437108   124.744794   \n",
              "std      47.051287    47.448423    46.649075    47.060298    47.315361   \n",
              "min      35.994999    36.430000    35.500000    35.547501    34.029236   \n",
              "25%      79.402500    79.982498    78.890001    79.553749    77.447155   \n",
              "50%     138.794998   141.635002   136.994995   138.924995   137.312538   \n",
              "75%     165.852501   167.832504   164.444996   165.884998   164.351372   \n",
              "max     198.020004   199.619995   197.000000   198.110001   197.589523   \n",
              "\n",
              "             Volume       Return  \n",
              "count  1.340000e+03  1339.000000  \n",
              "mean   9.907625e+07     0.001337  \n",
              "std    5.212180e+07     0.019966  \n",
              "min    2.404830e+07    -0.128647  \n",
              "25%    6.540620e+07    -0.008209  \n",
              "50%    8.667305e+07     0.001140  \n",
              "75%    1.161214e+08     0.012116  \n",
              "max    4.265100e+08     0.119808  "
            ],
            "text/html": [
              "\n",
              "  <div id=\"df-4d23d9c1-d64d-4d13-9bf1-1a1b84b75367\" class=\"colab-df-container\">\n",
              "    <div>\n",
              "<style scoped>\n",
              "    .dataframe tbody tr th:only-of-type {\n",
              "        vertical-align: middle;\n",
              "    }\n",
              "\n",
              "    .dataframe tbody tr th {\n",
              "        vertical-align: top;\n",
              "    }\n",
              "\n",
              "    .dataframe thead th {\n",
              "        text-align: right;\n",
              "    }\n",
              "</style>\n",
              "<table border=\"1\" class=\"dataframe\">\n",
              "  <thead>\n",
              "    <tr style=\"text-align: right;\">\n",
              "      <th></th>\n",
              "      <th>Open</th>\n",
              "      <th>High</th>\n",
              "      <th>Low</th>\n",
              "      <th>Close</th>\n",
              "      <th>Adj Close</th>\n",
              "      <th>Volume</th>\n",
              "      <th>Return</th>\n",
              "    </tr>\n",
              "  </thead>\n",
              "  <tbody>\n",
              "    <tr>\n",
              "      <th>count</th>\n",
              "      <td>1340.000000</td>\n",
              "      <td>1340.000000</td>\n",
              "      <td>1340.000000</td>\n",
              "      <td>1340.000000</td>\n",
              "      <td>1340.000000</td>\n",
              "      <td>1.340000e+03</td>\n",
              "      <td>1339.000000</td>\n",
              "    </tr>\n",
              "    <tr>\n",
              "      <th>mean</th>\n",
              "      <td>126.315830</td>\n",
              "      <td>127.734616</td>\n",
              "      <td>125.002485</td>\n",
              "      <td>126.437108</td>\n",
              "      <td>124.744794</td>\n",
              "      <td>9.907625e+07</td>\n",
              "      <td>0.001337</td>\n",
              "    </tr>\n",
              "    <tr>\n",
              "      <th>std</th>\n",
              "      <td>47.051287</td>\n",
              "      <td>47.448423</td>\n",
              "      <td>46.649075</td>\n",
              "      <td>47.060298</td>\n",
              "      <td>47.315361</td>\n",
              "      <td>5.212180e+07</td>\n",
              "      <td>0.019966</td>\n",
              "    </tr>\n",
              "    <tr>\n",
              "      <th>min</th>\n",
              "      <td>35.994999</td>\n",
              "      <td>36.430000</td>\n",
              "      <td>35.500000</td>\n",
              "      <td>35.547501</td>\n",
              "      <td>34.029236</td>\n",
              "      <td>2.404830e+07</td>\n",
              "      <td>-0.128647</td>\n",
              "    </tr>\n",
              "    <tr>\n",
              "      <th>25%</th>\n",
              "      <td>79.402500</td>\n",
              "      <td>79.982498</td>\n",
              "      <td>78.890001</td>\n",
              "      <td>79.553749</td>\n",
              "      <td>77.447155</td>\n",
              "      <td>6.540620e+07</td>\n",
              "      <td>-0.008209</td>\n",
              "    </tr>\n",
              "    <tr>\n",
              "      <th>50%</th>\n",
              "      <td>138.794998</td>\n",
              "      <td>141.635002</td>\n",
              "      <td>136.994995</td>\n",
              "      <td>138.924995</td>\n",
              "      <td>137.312538</td>\n",
              "      <td>8.667305e+07</td>\n",
              "      <td>0.001140</td>\n",
              "    </tr>\n",
              "    <tr>\n",
              "      <th>75%</th>\n",
              "      <td>165.852501</td>\n",
              "      <td>167.832504</td>\n",
              "      <td>164.444996</td>\n",
              "      <td>165.884998</td>\n",
              "      <td>164.351372</td>\n",
              "      <td>1.161214e+08</td>\n",
              "      <td>0.012116</td>\n",
              "    </tr>\n",
              "    <tr>\n",
              "      <th>max</th>\n",
              "      <td>198.020004</td>\n",
              "      <td>199.619995</td>\n",
              "      <td>197.000000</td>\n",
              "      <td>198.110001</td>\n",
              "      <td>197.589523</td>\n",
              "      <td>4.265100e+08</td>\n",
              "      <td>0.119808</td>\n",
              "    </tr>\n",
              "  </tbody>\n",
              "</table>\n",
              "</div>\n",
              "    <div class=\"colab-df-buttons\">\n",
              "\n",
              "  <div class=\"colab-df-container\">\n",
              "    <button class=\"colab-df-convert\" onclick=\"convertToInteractive('df-4d23d9c1-d64d-4d13-9bf1-1a1b84b75367')\"\n",
              "            title=\"Convert this dataframe to an interactive table.\"\n",
              "            style=\"display:none;\">\n",
              "\n",
              "  <svg xmlns=\"http://www.w3.org/2000/svg\" height=\"24px\" viewBox=\"0 -960 960 960\">\n",
              "    <path d=\"M120-120v-720h720v720H120Zm60-500h600v-160H180v160Zm220 220h160v-160H400v160Zm0 220h160v-160H400v160ZM180-400h160v-160H180v160Zm440 0h160v-160H620v160ZM180-180h160v-160H180v160Zm440 0h160v-160H620v160Z\"/>\n",
              "  </svg>\n",
              "    </button>\n",
              "\n",
              "  <style>\n",
              "    .colab-df-container {\n",
              "      display:flex;\n",
              "      gap: 12px;\n",
              "    }\n",
              "\n",
              "    .colab-df-convert {\n",
              "      background-color: #E8F0FE;\n",
              "      border: none;\n",
              "      border-radius: 50%;\n",
              "      cursor: pointer;\n",
              "      display: none;\n",
              "      fill: #1967D2;\n",
              "      height: 32px;\n",
              "      padding: 0 0 0 0;\n",
              "      width: 32px;\n",
              "    }\n",
              "\n",
              "    .colab-df-convert:hover {\n",
              "      background-color: #E2EBFA;\n",
              "      box-shadow: 0px 1px 2px rgba(60, 64, 67, 0.3), 0px 1px 3px 1px rgba(60, 64, 67, 0.15);\n",
              "      fill: #174EA6;\n",
              "    }\n",
              "\n",
              "    .colab-df-buttons div {\n",
              "      margin-bottom: 4px;\n",
              "    }\n",
              "\n",
              "    [theme=dark] .colab-df-convert {\n",
              "      background-color: #3B4455;\n",
              "      fill: #D2E3FC;\n",
              "    }\n",
              "\n",
              "    [theme=dark] .colab-df-convert:hover {\n",
              "      background-color: #434B5C;\n",
              "      box-shadow: 0px 1px 3px 1px rgba(0, 0, 0, 0.15);\n",
              "      filter: drop-shadow(0px 1px 2px rgba(0, 0, 0, 0.3));\n",
              "      fill: #FFFFFF;\n",
              "    }\n",
              "  </style>\n",
              "\n",
              "    <script>\n",
              "      const buttonEl =\n",
              "        document.querySelector('#df-4d23d9c1-d64d-4d13-9bf1-1a1b84b75367 button.colab-df-convert');\n",
              "      buttonEl.style.display =\n",
              "        google.colab.kernel.accessAllowed ? 'block' : 'none';\n",
              "\n",
              "      async function convertToInteractive(key) {\n",
              "        const element = document.querySelector('#df-4d23d9c1-d64d-4d13-9bf1-1a1b84b75367');\n",
              "        const dataTable =\n",
              "          await google.colab.kernel.invokeFunction('convertToInteractive',\n",
              "                                                    [key], {});\n",
              "        if (!dataTable) return;\n",
              "\n",
              "        const docLinkHtml = 'Like what you see? Visit the ' +\n",
              "          '<a target=\"_blank\" href=https://colab.research.google.com/notebooks/data_table.ipynb>data table notebook</a>'\n",
              "          + ' to learn more about interactive tables.';\n",
              "        element.innerHTML = '';\n",
              "        dataTable['output_type'] = 'display_data';\n",
              "        await google.colab.output.renderOutput(dataTable, element);\n",
              "        const docLink = document.createElement('div');\n",
              "        docLink.innerHTML = docLinkHtml;\n",
              "        element.appendChild(docLink);\n",
              "      }\n",
              "    </script>\n",
              "  </div>\n",
              "\n",
              "\n",
              "<div id=\"df-7f7eca4d-b7f2-410c-913f-a346a736a891\">\n",
              "  <button class=\"colab-df-quickchart\" onclick=\"quickchart('df-7f7eca4d-b7f2-410c-913f-a346a736a891')\"\n",
              "            title=\"Suggest charts\"\n",
              "            style=\"display:none;\">\n",
              "\n",
              "<svg xmlns=\"http://www.w3.org/2000/svg\" height=\"24px\"viewBox=\"0 0 24 24\"\n",
              "     width=\"24px\">\n",
              "    <g>\n",
              "        <path d=\"M19 3H5c-1.1 0-2 .9-2 2v14c0 1.1.9 2 2 2h14c1.1 0 2-.9 2-2V5c0-1.1-.9-2-2-2zM9 17H7v-7h2v7zm4 0h-2V7h2v10zm4 0h-2v-4h2v4z\"/>\n",
              "    </g>\n",
              "</svg>\n",
              "  </button>\n",
              "\n",
              "<style>\n",
              "  .colab-df-quickchart {\n",
              "      --bg-color: #E8F0FE;\n",
              "      --fill-color: #1967D2;\n",
              "      --hover-bg-color: #E2EBFA;\n",
              "      --hover-fill-color: #174EA6;\n",
              "      --disabled-fill-color: #AAA;\n",
              "      --disabled-bg-color: #DDD;\n",
              "  }\n",
              "\n",
              "  [theme=dark] .colab-df-quickchart {\n",
              "      --bg-color: #3B4455;\n",
              "      --fill-color: #D2E3FC;\n",
              "      --hover-bg-color: #434B5C;\n",
              "      --hover-fill-color: #FFFFFF;\n",
              "      --disabled-bg-color: #3B4455;\n",
              "      --disabled-fill-color: #666;\n",
              "  }\n",
              "\n",
              "  .colab-df-quickchart {\n",
              "    background-color: var(--bg-color);\n",
              "    border: none;\n",
              "    border-radius: 50%;\n",
              "    cursor: pointer;\n",
              "    display: none;\n",
              "    fill: var(--fill-color);\n",
              "    height: 32px;\n",
              "    padding: 0;\n",
              "    width: 32px;\n",
              "  }\n",
              "\n",
              "  .colab-df-quickchart:hover {\n",
              "    background-color: var(--hover-bg-color);\n",
              "    box-shadow: 0 1px 2px rgba(60, 64, 67, 0.3), 0 1px 3px 1px rgba(60, 64, 67, 0.15);\n",
              "    fill: var(--button-hover-fill-color);\n",
              "  }\n",
              "\n",
              "  .colab-df-quickchart-complete:disabled,\n",
              "  .colab-df-quickchart-complete:disabled:hover {\n",
              "    background-color: var(--disabled-bg-color);\n",
              "    fill: var(--disabled-fill-color);\n",
              "    box-shadow: none;\n",
              "  }\n",
              "\n",
              "  .colab-df-spinner {\n",
              "    border: 2px solid var(--fill-color);\n",
              "    border-color: transparent;\n",
              "    border-bottom-color: var(--fill-color);\n",
              "    animation:\n",
              "      spin 1s steps(1) infinite;\n",
              "  }\n",
              "\n",
              "  @keyframes spin {\n",
              "    0% {\n",
              "      border-color: transparent;\n",
              "      border-bottom-color: var(--fill-color);\n",
              "      border-left-color: var(--fill-color);\n",
              "    }\n",
              "    20% {\n",
              "      border-color: transparent;\n",
              "      border-left-color: var(--fill-color);\n",
              "      border-top-color: var(--fill-color);\n",
              "    }\n",
              "    30% {\n",
              "      border-color: transparent;\n",
              "      border-left-color: var(--fill-color);\n",
              "      border-top-color: var(--fill-color);\n",
              "      border-right-color: var(--fill-color);\n",
              "    }\n",
              "    40% {\n",
              "      border-color: transparent;\n",
              "      border-right-color: var(--fill-color);\n",
              "      border-top-color: var(--fill-color);\n",
              "    }\n",
              "    60% {\n",
              "      border-color: transparent;\n",
              "      border-right-color: var(--fill-color);\n",
              "    }\n",
              "    80% {\n",
              "      border-color: transparent;\n",
              "      border-right-color: var(--fill-color);\n",
              "      border-bottom-color: var(--fill-color);\n",
              "    }\n",
              "    90% {\n",
              "      border-color: transparent;\n",
              "      border-bottom-color: var(--fill-color);\n",
              "    }\n",
              "  }\n",
              "</style>\n",
              "\n",
              "  <script>\n",
              "    async function quickchart(key) {\n",
              "      const quickchartButtonEl =\n",
              "        document.querySelector('#' + key + ' button');\n",
              "      quickchartButtonEl.disabled = true;  // To prevent multiple clicks.\n",
              "      quickchartButtonEl.classList.add('colab-df-spinner');\n",
              "      try {\n",
              "        const charts = await google.colab.kernel.invokeFunction(\n",
              "            'suggestCharts', [key], {});\n",
              "      } catch (error) {\n",
              "        console.error('Error during call to suggestCharts:', error);\n",
              "      }\n",
              "      quickchartButtonEl.classList.remove('colab-df-spinner');\n",
              "      quickchartButtonEl.classList.add('colab-df-quickchart-complete');\n",
              "    }\n",
              "    (() => {\n",
              "      let quickchartButtonEl =\n",
              "        document.querySelector('#df-7f7eca4d-b7f2-410c-913f-a346a736a891 button');\n",
              "      quickchartButtonEl.style.display =\n",
              "        google.colab.kernel.accessAllowed ? 'block' : 'none';\n",
              "    })();\n",
              "  </script>\n",
              "</div>\n",
              "\n",
              "    </div>\n",
              "  </div>\n"
            ],
            "application/vnd.google.colaboratory.intrinsic+json": {
              "type": "dataframe",
              "summary": "{\n  \"name\": \"aapl_stock_data\",\n  \"rows\": 8,\n  \"fields\": [\n    {\n      \"column\": \"Open\",\n      \"properties\": {\n        \"dtype\": \"number\",\n        \"std\": 437.44021225046515,\n        \"min\": 35.994998931884766,\n        \"max\": 1340.0,\n        \"num_unique_values\": 8,\n        \"samples\": [\n          126.31583044422207,\n          138.7949981689453,\n          1340.0\n        ],\n        \"semantic_type\": \"\",\n        \"description\": \"\"\n      }\n    },\n    {\n      \"column\": \"High\",\n      \"properties\": {\n        \"dtype\": \"number\",\n        \"std\": 437.0604259452318,\n        \"min\": 36.43000030517578,\n        \"max\": 1340.0,\n        \"num_unique_values\": 8,\n        \"samples\": [\n          127.73461580418828,\n          141.63500213623047,\n          1340.0\n        ],\n        \"semantic_type\": \"\",\n        \"description\": \"\"\n      }\n    },\n    {\n      \"column\": \"Low\",\n      \"properties\": {\n        \"dtype\": \"number\",\n        \"std\": 437.74204600580725,\n        \"min\": 35.5,\n        \"max\": 1340.0,\n        \"num_unique_values\": 8,\n        \"samples\": [\n          125.00248494788782,\n          136.9949951171875,\n          1340.0\n        ],\n        \"semantic_type\": \"\",\n        \"description\": \"\"\n      }\n    },\n    {\n      \"column\": \"Close\",\n      \"properties\": {\n        \"dtype\": \"number\",\n        \"std\": 437.4500016187423,\n        \"min\": 35.54750061035156,\n        \"max\": 1340.0,\n        \"num_unique_values\": 8,\n        \"samples\": [\n          126.4371081821954,\n          138.92499542236328,\n          1340.0\n        ],\n        \"semantic_type\": \"\",\n        \"description\": \"\"\n      }\n    },\n    {\n      \"column\": \"Adj Close\",\n      \"properties\": {\n        \"dtype\": \"number\",\n        \"std\": 437.88193487450843,\n        \"min\": 34.02923583984375,\n        \"max\": 1340.0,\n        \"num_unique_values\": 8,\n        \"samples\": [\n          124.74479402001225,\n          137.31253814697266,\n          1340.0\n        ],\n        \"semantic_type\": \"\",\n        \"description\": \"\"\n      }\n    },\n    {\n      \"column\": \"Volume\",\n      \"properties\": {\n        \"dtype\": \"number\",\n        \"std\": 134000435.01035069,\n        \"min\": 1340.0,\n        \"max\": 426510000.0,\n        \"num_unique_values\": 8,\n        \"samples\": [\n          99076251.86567163,\n          86673050.0,\n          1340.0\n        ],\n        \"semantic_type\": \"\",\n        \"description\": \"\"\n      }\n    },\n    {\n      \"column\": \"Return\",\n      \"properties\": {\n        \"dtype\": \"number\",\n        \"std\": 473.40711031294353,\n        \"min\": -0.12864685950058297,\n        \"max\": 1339.0,\n        \"num_unique_values\": 8,\n        \"samples\": [\n          0.0013371080085598681,\n          0.0011399859670355728,\n          1339.0\n        ],\n        \"semantic_type\": \"\",\n        \"description\": \"\"\n      }\n    }\n  ]\n}"
            }
          },
          "metadata": {},
          "execution_count": 6
        }
      ],
      "source": [
        "# Fetch historical data for Apple\n",
        "ticker_symbol = \"AAPL\"\n",
        "start_date = \"2019-01-01\"\n",
        "end_date = \"2024-04-30\"\n",
        "aapl_stock_data = yf.download(ticker_symbol, start=start_date, end=end_date)\n",
        "aapl_stock_data['Return']=aapl_stock_data['Adj Close'].pct_change()\n",
        "\n",
        "aapl_stock_data.describe()"
      ]
    },
    {
      "cell_type": "code",
      "execution_count": 7,
      "id": "c0d965d9",
      "metadata": {
        "colab": {
          "base_uri": "https://localhost:8080/",
          "height": 238
        },
        "id": "c0d965d9",
        "outputId": "9d155730-85e9-46e2-c3f6-ab21ddab903c"
      },
      "outputs": [
        {
          "output_type": "execute_result",
          "data": {
            "text/plain": [
              "                  Open        High         Low       Close   Adj Close  \\\n",
              "Date                                                                     \n",
              "2024-04-23  165.350006  167.050003  164.919998  166.899994  166.673920   \n",
              "2024-04-24  166.539993  169.300003  166.210007  169.020004  168.791061   \n",
              "2024-04-25  169.529999  170.610001  168.149994  169.889999  169.659882   \n",
              "2024-04-26  169.880005  171.339996  169.179993  169.300003  169.070679   \n",
              "2024-04-29  173.369995  176.029999  173.100006  173.500000  173.264984   \n",
              "\n",
              "              Volume    Return  \n",
              "Date                            \n",
              "2024-04-23  49537800  0.006392  \n",
              "2024-04-24  48251800  0.012702  \n",
              "2024-04-25  50558300  0.005147  \n",
              "2024-04-26  44838400 -0.003473  \n",
              "2024-04-29  68169400  0.024808  "
            ],
            "text/html": [
              "\n",
              "  <div id=\"df-fb9aea9b-50d3-468b-9350-28d9c1e27a3c\" class=\"colab-df-container\">\n",
              "    <div>\n",
              "<style scoped>\n",
              "    .dataframe tbody tr th:only-of-type {\n",
              "        vertical-align: middle;\n",
              "    }\n",
              "\n",
              "    .dataframe tbody tr th {\n",
              "        vertical-align: top;\n",
              "    }\n",
              "\n",
              "    .dataframe thead th {\n",
              "        text-align: right;\n",
              "    }\n",
              "</style>\n",
              "<table border=\"1\" class=\"dataframe\">\n",
              "  <thead>\n",
              "    <tr style=\"text-align: right;\">\n",
              "      <th></th>\n",
              "      <th>Open</th>\n",
              "      <th>High</th>\n",
              "      <th>Low</th>\n",
              "      <th>Close</th>\n",
              "      <th>Adj Close</th>\n",
              "      <th>Volume</th>\n",
              "      <th>Return</th>\n",
              "    </tr>\n",
              "    <tr>\n",
              "      <th>Date</th>\n",
              "      <th></th>\n",
              "      <th></th>\n",
              "      <th></th>\n",
              "      <th></th>\n",
              "      <th></th>\n",
              "      <th></th>\n",
              "      <th></th>\n",
              "    </tr>\n",
              "  </thead>\n",
              "  <tbody>\n",
              "    <tr>\n",
              "      <th>2024-04-23</th>\n",
              "      <td>165.350006</td>\n",
              "      <td>167.050003</td>\n",
              "      <td>164.919998</td>\n",
              "      <td>166.899994</td>\n",
              "      <td>166.673920</td>\n",
              "      <td>49537800</td>\n",
              "      <td>0.006392</td>\n",
              "    </tr>\n",
              "    <tr>\n",
              "      <th>2024-04-24</th>\n",
              "      <td>166.539993</td>\n",
              "      <td>169.300003</td>\n",
              "      <td>166.210007</td>\n",
              "      <td>169.020004</td>\n",
              "      <td>168.791061</td>\n",
              "      <td>48251800</td>\n",
              "      <td>0.012702</td>\n",
              "    </tr>\n",
              "    <tr>\n",
              "      <th>2024-04-25</th>\n",
              "      <td>169.529999</td>\n",
              "      <td>170.610001</td>\n",
              "      <td>168.149994</td>\n",
              "      <td>169.889999</td>\n",
              "      <td>169.659882</td>\n",
              "      <td>50558300</td>\n",
              "      <td>0.005147</td>\n",
              "    </tr>\n",
              "    <tr>\n",
              "      <th>2024-04-26</th>\n",
              "      <td>169.880005</td>\n",
              "      <td>171.339996</td>\n",
              "      <td>169.179993</td>\n",
              "      <td>169.300003</td>\n",
              "      <td>169.070679</td>\n",
              "      <td>44838400</td>\n",
              "      <td>-0.003473</td>\n",
              "    </tr>\n",
              "    <tr>\n",
              "      <th>2024-04-29</th>\n",
              "      <td>173.369995</td>\n",
              "      <td>176.029999</td>\n",
              "      <td>173.100006</td>\n",
              "      <td>173.500000</td>\n",
              "      <td>173.264984</td>\n",
              "      <td>68169400</td>\n",
              "      <td>0.024808</td>\n",
              "    </tr>\n",
              "  </tbody>\n",
              "</table>\n",
              "</div>\n",
              "    <div class=\"colab-df-buttons\">\n",
              "\n",
              "  <div class=\"colab-df-container\">\n",
              "    <button class=\"colab-df-convert\" onclick=\"convertToInteractive('df-fb9aea9b-50d3-468b-9350-28d9c1e27a3c')\"\n",
              "            title=\"Convert this dataframe to an interactive table.\"\n",
              "            style=\"display:none;\">\n",
              "\n",
              "  <svg xmlns=\"http://www.w3.org/2000/svg\" height=\"24px\" viewBox=\"0 -960 960 960\">\n",
              "    <path d=\"M120-120v-720h720v720H120Zm60-500h600v-160H180v160Zm220 220h160v-160H400v160Zm0 220h160v-160H400v160ZM180-400h160v-160H180v160Zm440 0h160v-160H620v160ZM180-180h160v-160H180v160Zm440 0h160v-160H620v160Z\"/>\n",
              "  </svg>\n",
              "    </button>\n",
              "\n",
              "  <style>\n",
              "    .colab-df-container {\n",
              "      display:flex;\n",
              "      gap: 12px;\n",
              "    }\n",
              "\n",
              "    .colab-df-convert {\n",
              "      background-color: #E8F0FE;\n",
              "      border: none;\n",
              "      border-radius: 50%;\n",
              "      cursor: pointer;\n",
              "      display: none;\n",
              "      fill: #1967D2;\n",
              "      height: 32px;\n",
              "      padding: 0 0 0 0;\n",
              "      width: 32px;\n",
              "    }\n",
              "\n",
              "    .colab-df-convert:hover {\n",
              "      background-color: #E2EBFA;\n",
              "      box-shadow: 0px 1px 2px rgba(60, 64, 67, 0.3), 0px 1px 3px 1px rgba(60, 64, 67, 0.15);\n",
              "      fill: #174EA6;\n",
              "    }\n",
              "\n",
              "    .colab-df-buttons div {\n",
              "      margin-bottom: 4px;\n",
              "    }\n",
              "\n",
              "    [theme=dark] .colab-df-convert {\n",
              "      background-color: #3B4455;\n",
              "      fill: #D2E3FC;\n",
              "    }\n",
              "\n",
              "    [theme=dark] .colab-df-convert:hover {\n",
              "      background-color: #434B5C;\n",
              "      box-shadow: 0px 1px 3px 1px rgba(0, 0, 0, 0.15);\n",
              "      filter: drop-shadow(0px 1px 2px rgba(0, 0, 0, 0.3));\n",
              "      fill: #FFFFFF;\n",
              "    }\n",
              "  </style>\n",
              "\n",
              "    <script>\n",
              "      const buttonEl =\n",
              "        document.querySelector('#df-fb9aea9b-50d3-468b-9350-28d9c1e27a3c button.colab-df-convert');\n",
              "      buttonEl.style.display =\n",
              "        google.colab.kernel.accessAllowed ? 'block' : 'none';\n",
              "\n",
              "      async function convertToInteractive(key) {\n",
              "        const element = document.querySelector('#df-fb9aea9b-50d3-468b-9350-28d9c1e27a3c');\n",
              "        const dataTable =\n",
              "          await google.colab.kernel.invokeFunction('convertToInteractive',\n",
              "                                                    [key], {});\n",
              "        if (!dataTable) return;\n",
              "\n",
              "        const docLinkHtml = 'Like what you see? Visit the ' +\n",
              "          '<a target=\"_blank\" href=https://colab.research.google.com/notebooks/data_table.ipynb>data table notebook</a>'\n",
              "          + ' to learn more about interactive tables.';\n",
              "        element.innerHTML = '';\n",
              "        dataTable['output_type'] = 'display_data';\n",
              "        await google.colab.output.renderOutput(dataTable, element);\n",
              "        const docLink = document.createElement('div');\n",
              "        docLink.innerHTML = docLinkHtml;\n",
              "        element.appendChild(docLink);\n",
              "      }\n",
              "    </script>\n",
              "  </div>\n",
              "\n",
              "\n",
              "<div id=\"df-b130d682-3d3c-42ac-9b4a-986dfea1f4d7\">\n",
              "  <button class=\"colab-df-quickchart\" onclick=\"quickchart('df-b130d682-3d3c-42ac-9b4a-986dfea1f4d7')\"\n",
              "            title=\"Suggest charts\"\n",
              "            style=\"display:none;\">\n",
              "\n",
              "<svg xmlns=\"http://www.w3.org/2000/svg\" height=\"24px\"viewBox=\"0 0 24 24\"\n",
              "     width=\"24px\">\n",
              "    <g>\n",
              "        <path d=\"M19 3H5c-1.1 0-2 .9-2 2v14c0 1.1.9 2 2 2h14c1.1 0 2-.9 2-2V5c0-1.1-.9-2-2-2zM9 17H7v-7h2v7zm4 0h-2V7h2v10zm4 0h-2v-4h2v4z\"/>\n",
              "    </g>\n",
              "</svg>\n",
              "  </button>\n",
              "\n",
              "<style>\n",
              "  .colab-df-quickchart {\n",
              "      --bg-color: #E8F0FE;\n",
              "      --fill-color: #1967D2;\n",
              "      --hover-bg-color: #E2EBFA;\n",
              "      --hover-fill-color: #174EA6;\n",
              "      --disabled-fill-color: #AAA;\n",
              "      --disabled-bg-color: #DDD;\n",
              "  }\n",
              "\n",
              "  [theme=dark] .colab-df-quickchart {\n",
              "      --bg-color: #3B4455;\n",
              "      --fill-color: #D2E3FC;\n",
              "      --hover-bg-color: #434B5C;\n",
              "      --hover-fill-color: #FFFFFF;\n",
              "      --disabled-bg-color: #3B4455;\n",
              "      --disabled-fill-color: #666;\n",
              "  }\n",
              "\n",
              "  .colab-df-quickchart {\n",
              "    background-color: var(--bg-color);\n",
              "    border: none;\n",
              "    border-radius: 50%;\n",
              "    cursor: pointer;\n",
              "    display: none;\n",
              "    fill: var(--fill-color);\n",
              "    height: 32px;\n",
              "    padding: 0;\n",
              "    width: 32px;\n",
              "  }\n",
              "\n",
              "  .colab-df-quickchart:hover {\n",
              "    background-color: var(--hover-bg-color);\n",
              "    box-shadow: 0 1px 2px rgba(60, 64, 67, 0.3), 0 1px 3px 1px rgba(60, 64, 67, 0.15);\n",
              "    fill: var(--button-hover-fill-color);\n",
              "  }\n",
              "\n",
              "  .colab-df-quickchart-complete:disabled,\n",
              "  .colab-df-quickchart-complete:disabled:hover {\n",
              "    background-color: var(--disabled-bg-color);\n",
              "    fill: var(--disabled-fill-color);\n",
              "    box-shadow: none;\n",
              "  }\n",
              "\n",
              "  .colab-df-spinner {\n",
              "    border: 2px solid var(--fill-color);\n",
              "    border-color: transparent;\n",
              "    border-bottom-color: var(--fill-color);\n",
              "    animation:\n",
              "      spin 1s steps(1) infinite;\n",
              "  }\n",
              "\n",
              "  @keyframes spin {\n",
              "    0% {\n",
              "      border-color: transparent;\n",
              "      border-bottom-color: var(--fill-color);\n",
              "      border-left-color: var(--fill-color);\n",
              "    }\n",
              "    20% {\n",
              "      border-color: transparent;\n",
              "      border-left-color: var(--fill-color);\n",
              "      border-top-color: var(--fill-color);\n",
              "    }\n",
              "    30% {\n",
              "      border-color: transparent;\n",
              "      border-left-color: var(--fill-color);\n",
              "      border-top-color: var(--fill-color);\n",
              "      border-right-color: var(--fill-color);\n",
              "    }\n",
              "    40% {\n",
              "      border-color: transparent;\n",
              "      border-right-color: var(--fill-color);\n",
              "      border-top-color: var(--fill-color);\n",
              "    }\n",
              "    60% {\n",
              "      border-color: transparent;\n",
              "      border-right-color: var(--fill-color);\n",
              "    }\n",
              "    80% {\n",
              "      border-color: transparent;\n",
              "      border-right-color: var(--fill-color);\n",
              "      border-bottom-color: var(--fill-color);\n",
              "    }\n",
              "    90% {\n",
              "      border-color: transparent;\n",
              "      border-bottom-color: var(--fill-color);\n",
              "    }\n",
              "  }\n",
              "</style>\n",
              "\n",
              "  <script>\n",
              "    async function quickchart(key) {\n",
              "      const quickchartButtonEl =\n",
              "        document.querySelector('#' + key + ' button');\n",
              "      quickchartButtonEl.disabled = true;  // To prevent multiple clicks.\n",
              "      quickchartButtonEl.classList.add('colab-df-spinner');\n",
              "      try {\n",
              "        const charts = await google.colab.kernel.invokeFunction(\n",
              "            'suggestCharts', [key], {});\n",
              "      } catch (error) {\n",
              "        console.error('Error during call to suggestCharts:', error);\n",
              "      }\n",
              "      quickchartButtonEl.classList.remove('colab-df-spinner');\n",
              "      quickchartButtonEl.classList.add('colab-df-quickchart-complete');\n",
              "    }\n",
              "    (() => {\n",
              "      let quickchartButtonEl =\n",
              "        document.querySelector('#df-b130d682-3d3c-42ac-9b4a-986dfea1f4d7 button');\n",
              "      quickchartButtonEl.style.display =\n",
              "        google.colab.kernel.accessAllowed ? 'block' : 'none';\n",
              "    })();\n",
              "  </script>\n",
              "</div>\n",
              "\n",
              "    </div>\n",
              "  </div>\n"
            ],
            "application/vnd.google.colaboratory.intrinsic+json": {
              "type": "dataframe",
              "summary": "{\n  \"name\": \"aapl_stock_data\",\n  \"rows\": 5,\n  \"fields\": [\n    {\n      \"column\": \"Date\",\n      \"properties\": {\n        \"dtype\": \"date\",\n        \"min\": \"2024-04-23 00:00:00\",\n        \"max\": \"2024-04-29 00:00:00\",\n        \"num_unique_values\": 5,\n        \"samples\": [\n          \"2024-04-24 00:00:00\",\n          \"2024-04-29 00:00:00\",\n          \"2024-04-25 00:00:00\"\n        ],\n        \"semantic_type\": \"\",\n        \"description\": \"\"\n      }\n    },\n    {\n      \"column\": \"Open\",\n      \"properties\": {\n        \"dtype\": \"number\",\n        \"std\": 3.142629188236243,\n        \"min\": 165.35000610351562,\n        \"max\": 173.3699951171875,\n        \"num_unique_values\": 5,\n        \"samples\": [\n          166.5399932861328,\n          173.3699951171875,\n          169.52999877929688\n        ],\n        \"semantic_type\": \"\",\n        \"description\": \"\"\n      }\n    },\n    {\n      \"column\": \"High\",\n      \"properties\": {\n        \"dtype\": \"number\",\n        \"std\": 3.3155418395531737,\n        \"min\": 167.0500030517578,\n        \"max\": 176.02999877929688,\n        \"num_unique_values\": 5,\n        \"samples\": [\n          169.3000030517578,\n          176.02999877929688,\n          170.61000061035156\n        ],\n        \"semantic_type\": \"\",\n        \"description\": \"\"\n      }\n    },\n    {\n      \"column\": \"Low\",\n      \"properties\": {\n        \"dtype\": \"number\",\n        \"std\": 3.1475669932073593,\n        \"min\": 164.9199981689453,\n        \"max\": 173.10000610351562,\n        \"num_unique_values\": 5,\n        \"samples\": [\n          166.2100067138672,\n          173.10000610351562,\n          168.14999389648438\n        ],\n        \"semantic_type\": \"\",\n        \"description\": \"\"\n      }\n    },\n    {\n      \"column\": \"Close\",\n      \"properties\": {\n        \"dtype\": \"number\",\n        \"std\": 2.3945827229921726,\n        \"min\": 166.89999389648438,\n        \"max\": 173.5,\n        \"num_unique_values\": 5,\n        \"samples\": [\n          169.02000427246094,\n          173.5,\n          169.88999938964844\n        ],\n        \"semantic_type\": \"\",\n        \"description\": \"\"\n      }\n    },\n    {\n      \"column\": \"Adj Close\",\n      \"properties\": {\n        \"dtype\": \"number\",\n        \"std\": 2.3913383635403602,\n        \"min\": 166.67391967773438,\n        \"max\": 173.26498413085938,\n        \"num_unique_values\": 5,\n        \"samples\": [\n          168.7910614013672,\n          173.26498413085938,\n          169.65988159179688\n        ],\n        \"semantic_type\": \"\",\n        \"description\": \"\"\n      }\n    },\n    {\n      \"column\": \"Volume\",\n      \"properties\": {\n        \"dtype\": \"number\",\n        \"std\": 9145495,\n        \"min\": 44838400,\n        \"max\": 68169400,\n        \"num_unique_values\": 5,\n        \"samples\": [\n          48251800,\n          68169400,\n          50558300\n        ],\n        \"semantic_type\": \"\",\n        \"description\": \"\"\n      }\n    },\n    {\n      \"column\": \"Return\",\n      \"properties\": {\n        \"dtype\": \"number\",\n        \"std\": 0.010497044674350505,\n        \"min\": -0.0034728474129022135,\n        \"max\": 0.02480800013284945,\n        \"num_unique_values\": 5,\n        \"samples\": [\n          0.01270229756236807,\n          0.02480800013284945,\n          0.005147311612454075\n        ],\n        \"semantic_type\": \"\",\n        \"description\": \"\"\n      }\n    }\n  ]\n}"
            }
          },
          "metadata": {},
          "execution_count": 7
        }
      ],
      "source": [
        "aapl_stock_data.tail()"
      ]
    },
    {
      "cell_type": "markdown",
      "id": "J1A0L8ka8qe2",
      "metadata": {
        "id": "J1A0L8ka8qe2"
      },
      "source": [
        "# 2. META"
      ]
    },
    {
      "cell_type": "code",
      "execution_count": 8,
      "id": "sRhuM7nt81s6",
      "metadata": {
        "colab": {
          "base_uri": "https://localhost:8080/"
        },
        "id": "sRhuM7nt81s6",
        "outputId": "015f0eba-a17f-4269-b171-785d1d30255f"
      },
      "outputs": [
        {
          "output_type": "stream",
          "name": "stderr",
          "text": [
            "\r[*********************100%%**********************]  1 of 1 completed"
          ]
        },
        {
          "output_type": "stream",
          "name": "stdout",
          "text": [
            "                  Open        High         Low       Close   Adj Close  \\\n",
            "Date                                                                     \n",
            "2019-01-02  128.990005  137.509995  128.559998  135.679993  135.401764   \n",
            "2019-01-03  134.690002  137.169998  131.119995  131.740005  131.469833   \n",
            "2019-01-04  134.009995  138.000000  133.750000  137.949997  137.667099   \n",
            "2019-01-07  137.559998  138.869995  135.910004  138.050003  137.766907   \n",
            "2019-01-08  139.889999  143.139999  139.539993  142.529999  142.237717   \n",
            "...                ...         ...         ...         ...         ...   \n",
            "2024-04-23  491.250000  498.760010  488.970001  496.100006  495.607941   \n",
            "2024-04-24  508.059998  510.000000  484.579987  493.500000  493.010498   \n",
            "2024-04-25  421.399994  445.769989  414.500000  441.380005  440.942200   \n",
            "2024-04-26  441.459991  446.440002  431.959991  443.290009  442.850311   \n",
            "2024-04-29  439.559998  439.760010  428.559998  432.619995  432.190887   \n",
            "\n",
            "              Volume    Return  \n",
            "Date                            \n",
            "2019-01-02  28146200       NaN  \n",
            "2019-01-03  22717900 -0.029039  \n",
            "2019-01-04  29002100  0.047138  \n",
            "2019-01-07  20089300  0.000725  \n",
            "2019-01-08  26263800  0.032452  \n",
            "...              ...       ...  \n",
            "2024-04-23  15079200  0.029830  \n",
            "2024-04-24  37772700 -0.005241  \n",
            "2024-04-25  82890700 -0.105613  \n",
            "2024-04-26  32691400  0.004327  \n",
            "2024-04-29  21502600 -0.024070  \n",
            "\n",
            "[1340 rows x 7 columns]\n"
          ]
        },
        {
          "output_type": "stream",
          "name": "stderr",
          "text": [
            "\n"
          ]
        }
      ],
      "source": [
        "# Fetch historical data for Microsoft\n",
        "ticker_symbol2 = \"META\"\n",
        "start_date = \"2019-01-01\"\n",
        "end_date = \"2024-04-30\"\n",
        "meta_stock_data = yf.download(ticker_symbol2, start=start_date, end=end_date)\n",
        "# Calculate returns\n",
        "meta_stock_data['Return'] = meta_stock_data['Adj Close'].pct_change()\n",
        "\n",
        "#Display data\n",
        "print(meta_stock_data)\n"
      ]
    },
    {
      "cell_type": "code",
      "execution_count": 31,
      "id": "385562b0",
      "metadata": {
        "colab": {
          "base_uri": "https://localhost:8080/",
          "height": 410
        },
        "id": "385562b0",
        "outputId": "78439f6b-71e6-4e1d-f8c3-55c2b053b5ed"
      },
      "outputs": [
        {
          "output_type": "display_data",
          "data": {
            "text/plain": [
              "<Figure size 600x400 with 1 Axes>"
            ],
            "image/png": "[encoded data removed]"
          },
          "metadata": {}
        }
      ],
      "source": [
        "# Plotting the distribution of Apple Adj Closing Prices\n",
        "fig, ax = plt.subplots(figsize=(6, 4))\n",
        "sns.histplot(data=aapl_stock_data['Adj Close'], kde=True, bins=30, color='blue',ax=ax)\n",
        "plt.title('Distribution of AAPL Adj Closing Price')\n",
        "plt.xlabel('Adj Closing Price')\n",
        "plt.ylabel('Frequency aapl_stock')\n",
        "plt.show()"
      ]
    },
    {
      "cell_type": "code",
      "execution_count": 30,
      "id": "2FFxDEOW_RXk",
      "metadata": {
        "colab": {
          "base_uri": "https://localhost:8080/",
          "height": 410
        },
        "id": "2FFxDEOW_RXk",
        "outputId": "9d607f75-3b24-43ea-fdca-1735d330d288"
      },
      "outputs": [
        {
          "output_type": "display_data",
          "data": {
            "text/plain": [
              "<Figure size 600x400 with 1 Axes>"
            ],
            "image/png": "[encoded data removed]"
          },
          "metadata": {}
        }
      ],
      "source": [
        "# Plotting the distribution of Meta Adj Closing Prices\n",
        "fig, ax = plt.subplots(figsize=(6, 4))\n",
        "sns.histplot(data=meta_stock_data['Adj Close'], kde=True, bins=30, color='blue',ax=ax)\n",
        "plt.title('Distribution of Meta Adj Closing Price')\n",
        "plt.xlabel('Adj Closing Price')\n",
        "plt.ylabel('Frequency Meta_stock')\n",
        "plt.show()"
      ]
    },
    {
      "cell_type": "markdown",
      "id": "WP4Rjtg7-VSp",
      "metadata": {
        "id": "WP4Rjtg7-VSp"
      },
      "source": [
        "**Calculate Statistics for Apple dataset**"
      ]
    },
    {
      "cell_type": "code",
      "execution_count": 15,
      "id": "ae0cad7c",
      "metadata": {
        "colab": {
          "base_uri": "https://localhost:8080/"
        },
        "id": "ae0cad7c",
        "outputId": "64cd4545-5bd8-44ab-9cca-27ee6bfd3614"
      },
      "outputs": [
        {
          "output_type": "stream",
          "name": "stdout",
          "text": [
            "\n",
            "Apple Summary Statitics:\n",
            "AAPL Mean Adj Close:  124.7448\n",
            "Standard deviation of Closing Prices  47.2977\n",
            "Skewness of Closing Prices: -0.4582\n",
            "Kurtosis of Closing PRices: -1.101\n",
            "\n",
            " For Returns:\n",
            "Mean Daily Return  0.0013\n",
            "Std Dev. Return  0.02\n",
            "Variance of Return: 0.0004\n"
          ]
        }
      ],
      "source": [
        "# Calculate statistics\n",
        "aaplmean_close1 = round(np.mean(aapl_stock_data['Adj Close']), 4)\n",
        "aaplmean_return1 = round(np.mean(aapl_stock_data['Return']), 4)\n",
        "\n",
        "aaplstd1 = round(np.std(aapl_stock_data['Adj Close']),4)\n",
        "aaplstd_dev1 = round(np.std(aapl_stock_data['Return']),4)\n",
        "aaplvariance1 = round(np.var(aapl_stock_data['Return']),4)\n",
        "aaplskewness1 = skew(aapl_stock_data['Adj Close'])\n",
        "aaplkurtosis1 = kurtosis(aapl_stock_data['Adj Close'])\n",
        "\n",
        "# Output results\n",
        "print (\"\\nApple Summary Statitics:\")\n",
        "print (\"AAPL Mean Adj Close: \", aaplmean_close1)\n",
        "print (\"Standard deviation of Closing Prices \", aaplstd1)\n",
        "print(\"Skewness of Closing Prices:\", round(aaplskewness1,4))\n",
        "print(\"Kurtosis of Closing PRices:\", round(aaplkurtosis1, 4))\n",
        "\n",
        "print (\"\\n For Returns:\")\n",
        "print (\"Mean Daily Return \", aaplmean_return1)\n",
        "\n",
        "print(\"Std Dev. Return \", aaplstd_dev1)\n",
        "\n",
        "print(\"Variance of Return:\", aaplvariance1)\n"
      ]
    },
    {
      "cell_type": "code",
      "execution_count": null,
      "id": "ecaf8382",
      "metadata": {
        "id": "ecaf8382"
      },
      "outputs": [],
      "source": [
        "# This indicates that the average adjusted closing price of AAPL stock over the #specified period is approximately $124.\n",
        "# This represents the average daily return of AAPL stock over the specified period is approximately 0.13%.\n",
        "# The standard deviation measures the dispersion or variability of closing prices around the mean.\n",
        "# A higher standard deviation indicates greater price volatility.\n",
        "# Skewness measures the asymmetry of the distribution of closing prices. A negative skewness\n",
        "# indicates a left-skewed distribution, where the tail on the left side is longer or fatter than the tail on the right side.\n",
        "# AAPL's closing prices exhibit a slight left skew.\n",
        "# Kurtosis measures the tailedness or peakedness of the distribution of closing prices relative to a normal distribution.\n",
        "# Negative kurtosis indicates a distribution with thinner tails and a flatter peak compared to a normal distribution.\n",
        "# AAPL's closing prices exhibit negative kurtosis, indicating a flatter peak and thinner tails compared\n",
        "# to a normal distribution.\n"
      ]
    },
    {
      "cell_type": "markdown",
      "id": "3e91a2fe",
      "metadata": {
        "id": "3e91a2fe"
      },
      "source": [
        "## Merge Apple and Meta datasets"
      ]
    },
    {
      "cell_type": "code",
      "execution_count": 16,
      "id": "a8c9f9a9",
      "metadata": {
        "colab": {
          "base_uri": "https://localhost:8080/",
          "height": 362
        },
        "id": "a8c9f9a9",
        "outputId": "ec35f0d4-8d63-406c-8263-57c96041e20d"
      },
      "outputs": [
        {
          "output_type": "execute_result",
          "data": {
            "text/plain": [
              "               Open_x     High_x      Low_x    Close_x  Adj Close_x  \\\n",
              "Date                                                                  \n",
              "2019-01-03  35.994999  36.430000  35.500000  35.547501    34.029236   \n",
              "2019-01-04  36.132500  37.137501  35.950001  37.064999    35.481922   \n",
              "2019-01-07  37.174999  37.207500  36.474998  36.982498    35.402958   \n",
              "2019-01-08  37.389999  37.955002  37.130001  37.687500    36.077835   \n",
              "2019-01-09  37.822498  38.632500  37.407501  38.327499    36.690502   \n",
              "\n",
              "             Volume_x  Return_x      Open_y      High_y       Low_y  \\\n",
              "Date                                                                  \n",
              "2019-01-03  365248800 -0.099607  134.690002  137.169998  131.119995   \n",
              "2019-01-04  234428400  0.042689  134.009995  138.000000  133.750000   \n",
              "2019-01-07  219111200 -0.002225  137.559998  138.869995  135.910004   \n",
              "2019-01-08  164101200  0.019063  139.889999  143.139999  139.539993   \n",
              "2019-01-09  180396400  0.016982  142.949997  144.699997  141.270004   \n",
              "\n",
              "               Close_y  Adj Close_y  Volume_y  Return_y  \n",
              "Date                                                     \n",
              "2019-01-03  131.740005   131.469833  22717900 -0.029039  \n",
              "2019-01-04  137.949997   137.667099  29002100  0.047138  \n",
              "2019-01-07  138.050003   137.766907  20089300  0.000725  \n",
              "2019-01-08  142.529999   142.237717  26263800  0.032452  \n",
              "2019-01-09  144.229996   143.934219  22205900  0.011927  "
            ],
            "text/html": [
              "\n",
              "  <div id=\"df-10385ab5-3646-489a-8192-e462c9adb8c0\" class=\"colab-df-container\">\n",
              "    <div>\n",
              "<style scoped>\n",
              "    .dataframe tbody tr th:only-of-type {\n",
              "        vertical-align: middle;\n",
              "    }\n",
              "\n",
              "    .dataframe tbody tr th {\n",
              "        vertical-align: top;\n",
              "    }\n",
              "\n",
              "    .dataframe thead th {\n",
              "        text-align: right;\n",
              "    }\n",
              "</style>\n",
              "<table border=\"1\" class=\"dataframe\">\n",
              "  <thead>\n",
              "    <tr style=\"text-align: right;\">\n",
              "      <th></th>\n",
              "      <th>Open_x</th>\n",
              "      <th>High_x</th>\n",
              "      <th>Low_x</th>\n",
              "      <th>Close_x</th>\n",
              "      <th>Adj Close_x</th>\n",
              "      <th>Volume_x</th>\n",
              "      <th>Return_x</th>\n",
              "      <th>Open_y</th>\n",
              "      <th>High_y</th>\n",
              "      <th>Low_y</th>\n",
              "      <th>Close_y</th>\n",
              "      <th>Adj Close_y</th>\n",
              "      <th>Volume_y</th>\n",
              "      <th>Return_y</th>\n",
              "    </tr>\n",
              "    <tr>\n",
              "      <th>Date</th>\n",
              "      <th></th>\n",
              "      <th></th>\n",
              "      <th></th>\n",
              "      <th></th>\n",
              "      <th></th>\n",
              "      <th></th>\n",
              "      <th></th>\n",
              "      <th></th>\n",
              "      <th></th>\n",
              "      <th></th>\n",
              "      <th></th>\n",
              "      <th></th>\n",
              "      <th></th>\n",
              "      <th></th>\n",
              "    </tr>\n",
              "  </thead>\n",
              "  <tbody>\n",
              "    <tr>\n",
              "      <th>2019-01-03</th>\n",
              "      <td>35.994999</td>\n",
              "      <td>36.430000</td>\n",
              "      <td>35.500000</td>\n",
              "      <td>35.547501</td>\n",
              "      <td>34.029236</td>\n",
              "      <td>365248800</td>\n",
              "      <td>-0.099607</td>\n",
              "      <td>134.690002</td>\n",
              "      <td>137.169998</td>\n",
              "      <td>131.119995</td>\n",
              "      <td>131.740005</td>\n",
              "      <td>131.469833</td>\n",
              "      <td>22717900</td>\n",
              "      <td>-0.029039</td>\n",
              "    </tr>\n",
              "    <tr>\n",
              "      <th>2019-01-04</th>\n",
              "      <td>36.132500</td>\n",
              "      <td>37.137501</td>\n",
              "      <td>35.950001</td>\n",
              "      <td>37.064999</td>\n",
              "      <td>35.481922</td>\n",
              "      <td>234428400</td>\n",
              "      <td>0.042689</td>\n",
              "      <td>134.009995</td>\n",
              "      <td>138.000000</td>\n",
              "      <td>133.750000</td>\n",
              "      <td>137.949997</td>\n",
              "      <td>137.667099</td>\n",
              "      <td>29002100</td>\n",
              "      <td>0.047138</td>\n",
              "    </tr>\n",
              "    <tr>\n",
              "      <th>2019-01-07</th>\n",
              "      <td>37.174999</td>\n",
              "      <td>37.207500</td>\n",
              "      <td>36.474998</td>\n",
              "      <td>36.982498</td>\n",
              "      <td>35.402958</td>\n",
              "      <td>219111200</td>\n",
              "      <td>-0.002225</td>\n",
              "      <td>137.559998</td>\n",
              "      <td>138.869995</td>\n",
              "      <td>135.910004</td>\n",
              "      <td>138.050003</td>\n",
              "      <td>137.766907</td>\n",
              "      <td>20089300</td>\n",
              "      <td>0.000725</td>\n",
              "    </tr>\n",
              "    <tr>\n",
              "      <th>2019-01-08</th>\n",
              "      <td>37.389999</td>\n",
              "      <td>37.955002</td>\n",
              "      <td>37.130001</td>\n",
              "      <td>37.687500</td>\n",
              "      <td>36.077835</td>\n",
              "      <td>164101200</td>\n",
              "      <td>0.019063</td>\n",
              "      <td>139.889999</td>\n",
              "      <td>143.139999</td>\n",
              "      <td>139.539993</td>\n",
              "      <td>142.529999</td>\n",
              "      <td>142.237717</td>\n",
              "      <td>26263800</td>\n",
              "      <td>0.032452</td>\n",
              "    </tr>\n",
              "    <tr>\n",
              "      <th>2019-01-09</th>\n",
              "      <td>37.822498</td>\n",
              "      <td>38.632500</td>\n",
              "      <td>37.407501</td>\n",
              "      <td>38.327499</td>\n",
              "      <td>36.690502</td>\n",
              "      <td>180396400</td>\n",
              "      <td>0.016982</td>\n",
              "      <td>142.949997</td>\n",
              "      <td>144.699997</td>\n",
              "      <td>141.270004</td>\n",
              "      <td>144.229996</td>\n",
              "      <td>143.934219</td>\n",
              "      <td>22205900</td>\n",
              "      <td>0.011927</td>\n",
              "    </tr>\n",
              "  </tbody>\n",
              "</table>\n",
              "</div>\n",
              "    <div class=\"colab-df-buttons\">\n",
              "\n",
              "  <div class=\"colab-df-container\">\n",
              "    <button class=\"colab-df-convert\" onclick=\"convertToInteractive('df-10385ab5-3646-489a-8192-e462c9adb8c0')\"\n",
              "            title=\"Convert this dataframe to an interactive table.\"\n",
              "            style=\"display:none;\">\n",
              "\n",
              "  <svg xmlns=\"http://www.w3.org/2000/svg\" height=\"24px\" viewBox=\"0 -960 960 960\">\n",
              "    <path d=\"M120-120v-720h720v720H120Zm60-500h600v-160H180v160Zm220 220h160v-160H400v160Zm0 220h160v-160H400v160ZM180-400h160v-160H180v160Zm440 0h160v-160H620v160ZM180-180h160v-160H180v160Zm440 0h160v-160H620v160Z\"/>\n",
              "  </svg>\n",
              "    </button>\n",
              "\n",
              "  <style>\n",
              "    .colab-df-container {\n",
              "      display:flex;\n",
              "      gap: 12px;\n",
              "    }\n",
              "\n",
              "    .colab-df-convert {\n",
              "      background-color: #E8F0FE;\n",
              "      border: none;\n",
              "      border-radius: 50%;\n",
              "      cursor: pointer;\n",
              "      display: none;\n",
              "      fill: #1967D2;\n",
              "      height: 32px;\n",
              "      padding: 0 0 0 0;\n",
              "      width: 32px;\n",
              "    }\n",
              "\n",
              "    .colab-df-convert:hover {\n",
              "      background-color: #E2EBFA;\n",
              "      box-shadow: 0px 1px 2px rgba(60, 64, 67, 0.3), 0px 1px 3px 1px rgba(60, 64, 67, 0.15);\n",
              "      fill: #174EA6;\n",
              "    }\n",
              "\n",
              "    .colab-df-buttons div {\n",
              "      margin-bottom: 4px;\n",
              "    }\n",
              "\n",
              "    [theme=dark] .colab-df-convert {\n",
              "      background-color: #3B4455;\n",
              "      fill: #D2E3FC;\n",
              "    }\n",
              "\n",
              "    [theme=dark] .colab-df-convert:hover {\n",
              "      background-color: #434B5C;\n",
              "      box-shadow: 0px 1px 3px 1px rgba(0, 0, 0, 0.15);\n",
              "      filter: drop-shadow(0px 1px 2px rgba(0, 0, 0, 0.3));\n",
              "      fill: #FFFFFF;\n",
              "    }\n",
              "  </style>\n",
              "\n",
              "    <script>\n",
              "      const buttonEl =\n",
              "        document.querySelector('#df-10385ab5-3646-489a-8192-e462c9adb8c0 button.colab-df-convert');\n",
              "      buttonEl.style.display =\n",
              "        google.colab.kernel.accessAllowed ? 'block' : 'none';\n",
              "\n",
              "      async function convertToInteractive(key) {\n",
              "        const element = document.querySelector('#df-10385ab5-3646-489a-8192-e462c9adb8c0');\n",
              "        const dataTable =\n",
              "          await google.colab.kernel.invokeFunction('convertToInteractive',\n",
              "                                                    [key], {});\n",
              "        if (!dataTable) return;\n",
              "\n",
              "        const docLinkHtml = 'Like what you see? Visit the ' +\n",
              "          '<a target=\"_blank\" href=https://colab.research.google.com/notebooks/data_table.ipynb>data table notebook</a>'\n",
              "          + ' to learn more about interactive tables.';\n",
              "        element.innerHTML = '';\n",
              "        dataTable['output_type'] = 'display_data';\n",
              "        await google.colab.output.renderOutput(dataTable, element);\n",
              "        const docLink = document.createElement('div');\n",
              "        docLink.innerHTML = docLinkHtml;\n",
              "        element.appendChild(docLink);\n",
              "      }\n",
              "    </script>\n",
              "  </div>\n",
              "\n",
              "\n",
              "<div id=\"df-701152e5-e584-45c8-9551-3f9a112d926a\">\n",
              "  <button class=\"colab-df-quickchart\" onclick=\"quickchart('df-701152e5-e584-45c8-9551-3f9a112d926a')\"\n",
              "            title=\"Suggest charts\"\n",
              "            style=\"display:none;\">\n",
              "\n",
              "<svg xmlns=\"http://www.w3.org/2000/svg\" height=\"24px\"viewBox=\"0 0 24 24\"\n",
              "     width=\"24px\">\n",
              "    <g>\n",
              "        <path d=\"M19 3H5c-1.1 0-2 .9-2 2v14c0 1.1.9 2 2 2h14c1.1 0 2-.9 2-2V5c0-1.1-.9-2-2-2zM9 17H7v-7h2v7zm4 0h-2V7h2v10zm4 0h-2v-4h2v4z\"/>\n",
              "    </g>\n",
              "</svg>\n",
              "  </button>\n",
              "\n",
              "<style>\n",
              "  .colab-df-quickchart {\n",
              "      --bg-color: #E8F0FE;\n",
              "      --fill-color: #1967D2;\n",
              "      --hover-bg-color: #E2EBFA;\n",
              "      --hover-fill-color: #174EA6;\n",
              "      --disabled-fill-color: #AAA;\n",
              "      --disabled-bg-color: #DDD;\n",
              "  }\n",
              "\n",
              "  [theme=dark] .colab-df-quickchart {\n",
              "      --bg-color: #3B4455;\n",
              "      --fill-color: #D2E3FC;\n",
              "      --hover-bg-color: #434B5C;\n",
              "      --hover-fill-color: #FFFFFF;\n",
              "      --disabled-bg-color: #3B4455;\n",
              "      --disabled-fill-color: #666;\n",
              "  }\n",
              "\n",
              "  .colab-df-quickchart {\n",
              "    background-color: var(--bg-color);\n",
              "    border: none;\n",
              "    border-radius: 50%;\n",
              "    cursor: pointer;\n",
              "    display: none;\n",
              "    fill: var(--fill-color);\n",
              "    height: 32px;\n",
              "    padding: 0;\n",
              "    width: 32px;\n",
              "  }\n",
              "\n",
              "  .colab-df-quickchart:hover {\n",
              "    background-color: var(--hover-bg-color);\n",
              "    box-shadow: 0 1px 2px rgba(60, 64, 67, 0.3), 0 1px 3px 1px rgba(60, 64, 67, 0.15);\n",
              "    fill: var(--button-hover-fill-color);\n",
              "  }\n",
              "\n",
              "  .colab-df-quickchart-complete:disabled,\n",
              "  .colab-df-quickchart-complete:disabled:hover {\n",
              "    background-color: var(--disabled-bg-color);\n",
              "    fill: var(--disabled-fill-color);\n",
              "    box-shadow: none;\n",
              "  }\n",
              "\n",
              "  .colab-df-spinner {\n",
              "    border: 2px solid var(--fill-color);\n",
              "    border-color: transparent;\n",
              "    border-bottom-color: var(--fill-color);\n",
              "    animation:\n",
              "      spin 1s steps(1) infinite;\n",
              "  }\n",
              "\n",
              "  @keyframes spin {\n",
              "    0% {\n",
              "      border-color: transparent;\n",
              "      border-bottom-color: var(--fill-color);\n",
              "      border-left-color: var(--fill-color);\n",
              "    }\n",
              "    20% {\n",
              "      border-color: transparent;\n",
              "      border-left-color: var(--fill-color);\n",
              "      border-top-color: var(--fill-color);\n",
              "    }\n",
              "    30% {\n",
              "      border-color: transparent;\n",
              "      border-left-color: var(--fill-color);\n",
              "      border-top-color: var(--fill-color);\n",
              "      border-right-color: var(--fill-color);\n",
              "    }\n",
              "    40% {\n",
              "      border-color: transparent;\n",
              "      border-right-color: var(--fill-color);\n",
              "      border-top-color: var(--fill-color);\n",
              "    }\n",
              "    60% {\n",
              "      border-color: transparent;\n",
              "      border-right-color: var(--fill-color);\n",
              "    }\n",
              "    80% {\n",
              "      border-color: transparent;\n",
              "      border-right-color: var(--fill-color);\n",
              "      border-bottom-color: var(--fill-color);\n",
              "    }\n",
              "    90% {\n",
              "      border-color: transparent;\n",
              "      border-bottom-color: var(--fill-color);\n",
              "    }\n",
              "  }\n",
              "</style>\n",
              "\n",
              "  <script>\n",
              "    async function quickchart(key) {\n",
              "      const quickchartButtonEl =\n",
              "        document.querySelector('#' + key + ' button');\n",
              "      quickchartButtonEl.disabled = true;  // To prevent multiple clicks.\n",
              "      quickchartButtonEl.classList.add('colab-df-spinner');\n",
              "      try {\n",
              "        const charts = await google.colab.kernel.invokeFunction(\n",
              "            'suggestCharts', [key], {});\n",
              "      } catch (error) {\n",
              "        console.error('Error during call to suggestCharts:', error);\n",
              "      }\n",
              "      quickchartButtonEl.classList.remove('colab-df-spinner');\n",
              "      quickchartButtonEl.classList.add('colab-df-quickchart-complete');\n",
              "    }\n",
              "    (() => {\n",
              "      let quickchartButtonEl =\n",
              "        document.querySelector('#df-701152e5-e584-45c8-9551-3f9a112d926a button');\n",
              "      quickchartButtonEl.style.display =\n",
              "        google.colab.kernel.accessAllowed ? 'block' : 'none';\n",
              "    })();\n",
              "  </script>\n",
              "</div>\n",
              "\n",
              "    </div>\n",
              "  </div>\n"
            ],
            "application/vnd.google.colaboratory.intrinsic+json": {
              "type": "dataframe",
              "variable_name": "df1",
              "summary": "{\n  \"name\": \"df1\",\n  \"rows\": 1339,\n  \"fields\": [\n    {\n      \"column\": \"Date\",\n      \"properties\": {\n        \"dtype\": \"date\",\n        \"min\": \"2019-01-03 00:00:00\",\n        \"max\": \"2024-04-29 00:00:00\",\n        \"num_unique_values\": 1339,\n        \"samples\": [\n          \"2020-07-28 00:00:00\",\n          \"2022-07-05 00:00:00\",\n          \"2020-06-05 00:00:00\"\n        ],\n        \"semantic_type\": \"\",\n        \"description\": \"\"\n      }\n    },\n    {\n      \"column\": \"Open_x\",\n      \"properties\": {\n        \"dtype\": \"number\",\n        \"std\": 47.00786669607726,\n        \"min\": 35.994998931884766,\n        \"max\": 198.02000427246094,\n        \"num_unique_values\": 1274,\n        \"samples\": [\n          60.70000076293945,\n          143.4600067138672,\n          54.60749816894531\n        ],\n        \"semantic_type\": \"\",\n        \"description\": \"\"\n      }\n    },\n    {\n      \"column\": \"High_x\",\n      \"properties\": {\n        \"dtype\": \"number\",\n        \"std\": 47.40506835816506,\n        \"min\": 36.43000030517578,\n        \"max\": 199.6199951171875,\n        \"num_unique_values\": 1279,\n        \"samples\": [\n          182.57000732421875,\n          194.39999389648438,\n          132.85000610351562\n        ],\n        \"semantic_type\": \"\",\n        \"description\": \"\"\n      }\n    },\n    {\n      \"column\": \"Low_x\",\n      \"properties\": {\n        \"dtype\": \"number\",\n        \"std\": 46.60658140235241,\n        \"min\": 35.5,\n        \"max\": 197.0,\n        \"num_unique_values\": 1290,\n        \"samples\": [\n          177.0500030517578,\n          189.25,\n          116.12999725341797\n        ],\n        \"semantic_type\": \"\",\n        \"description\": \"\"\n      }\n    },\n    {\n      \"column\": \"Close_x\",\n      \"properties\": {\n        \"dtype\": \"number\",\n        \"std\": 47.01777644907011,\n        \"min\": 35.54750061035156,\n        \"max\": 198.11000061035156,\n        \"num_unique_values\": 1280,\n        \"samples\": [\n          182.52000427246094,\n          149.47999572753906,\n          154.52999877929688\n        ],\n        \"semantic_type\": \"\",\n        \"description\": \"\"\n      }\n    },\n    {\n      \"column\": \"Adj Close_x\",\n      \"properties\": {\n        \"dtype\": \"number\",\n        \"std\": 47.273266780645166,\n        \"min\": 34.02923583984375,\n        \"max\": 197.5895233154297,\n        \"num_unique_values\": 1327,\n        \"samples\": [\n          160.6919708251953,\n          47.74094009399414,\n          117.91102600097656\n        ],\n        \"semantic_type\": \"\",\n        \"description\": \"\"\n      }\n    },\n    {\n      \"column\": \"Volume_x\",\n      \"properties\": {\n        \"dtype\": \"number\",\n        \"std\": 52123990,\n        \"min\": 24048300,\n        \"max\": 426510000,\n        \"num_unique_values\": 1336,\n        \"samples\": [\n          67829400,\n          45992200,\n          82488700\n        ],\n        \"semantic_type\": \"\",\n        \"description\": \"\"\n      }\n    },\n    {\n      \"column\": \"Return_x\",\n      \"properties\": {\n        \"dtype\": \"number\",\n        \"std\": 0.019965629654738297,\n        \"min\": -0.12864685950058297,\n        \"max\": 0.11980813249415379,\n        \"num_unique_values\": 1337,\n        \"samples\": [\n          -0.006153482980757352,\n          -0.012293243010725874,\n          -0.03578665082919086\n        ],\n        \"semantic_type\": \"\",\n        \"description\": \"\"\n      }\n    },\n    {\n      \"column\": \"Open_y\",\n      \"properties\": {\n        \"dtype\": \"number\",\n        \"std\": 86.99301063471175,\n        \"min\": 90.08000183105469,\n        \"max\": 529.280029296875,\n        \"num_unique_values\": 1292,\n        \"samples\": [\n          235.0,\n          272.0,\n          341.8500061035156\n        ],\n        \"semantic_type\": \"\",\n        \"description\": \"\"\n      }\n    },\n    {\n      \"column\": \"High_y\",\n      \"properties\": {\n        \"dtype\": \"number\",\n        \"std\": 87.7779047363911,\n        \"min\": 90.45999908447266,\n        \"max\": 531.489990234375,\n        \"num_unique_values\": 1297,\n        \"samples\": [\n          333.94000244140625,\n          231.5500030517578,\n          332.7300109863281\n        ],\n        \"semantic_type\": \"\",\n        \"description\": \"\"\n      }\n    },\n    {\n      \"column\": \"Low_y\",\n      \"properties\": {\n        \"dtype\": \"number\",\n        \"std\": 86.01605989032016,\n        \"min\": 88.08999633789062,\n        \"max\": 518.8900146484375,\n        \"num_unique_values\": 1300,\n        \"samples\": [\n          267.4700012207031,\n          321.0,\n          172.82000732421875\n        ],\n        \"semantic_type\": \"\",\n        \"description\": \"\"\n      }\n    },\n    {\n      \"column\": \"Close_y\",\n      \"properties\": {\n        \"dtype\": \"number\",\n        \"std\": 86.89744074633373,\n        \"min\": 88.91000366210938,\n        \"max\": 527.3400268554688,\n        \"num_unique_values\": 1304,\n        \"samples\": [\n          324.1600036621094,\n          266.6499938964844,\n          194.25\n        ],\n        \"semantic_type\": \"\",\n        \"description\": \"\"\n      }\n    },\n    {\n      \"column\": \"Adj Close_y\",\n      \"properties\": {\n        \"dtype\": \"number\",\n        \"std\": 86.77231808726998,\n        \"min\": 88.72766876220703,\n        \"max\": 526.8169555664062,\n        \"num_unique_values\": 1305,\n        \"samples\": [\n          323.4952392578125,\n          266.1031799316406,\n          193.8516387939453\n        ],\n        \"semantic_type\": \"\",\n        \"description\": \"\"\n      }\n    },\n    {\n      \"column\": \"Volume_y\",\n      \"properties\": {\n        \"dtype\": \"number\",\n        \"std\": 15419932,\n        \"min\": 5467500,\n        \"max\": 232316600,\n        \"num_unique_values\": 1338,\n        \"samples\": [\n          16868500,\n          23765200,\n          25933700\n        ],\n        \"semantic_type\": \"\",\n        \"description\": \"\"\n      }\n    },\n    {\n      \"column\": \"Return_y\",\n      \"properties\": {\n        \"dtype\": \"number\",\n        \"std\": 0.027697690242501818,\n        \"min\": -0.2639009429617001,\n        \"max\": 0.23282402462160823,\n        \"num_unique_values\": 1338,\n        \"samples\": [\n          -0.020344526040409705,\n          0.0013475218484153562,\n          0.015361257761582259\n        ],\n        \"semantic_type\": \"\",\n        \"description\": \"\"\n      }\n    }\n  ]\n}"
            }
          },
          "metadata": {},
          "execution_count": 16
        }
      ],
      "source": [
        "df1=pd.merge(aapl_stock_data,meta_stock_data, on='Date', how='inner')\n",
        "df1.dropna(inplace=True)\n",
        "df1.head()"
      ]
    },
    {
      "cell_type": "markdown",
      "id": "bce15ffc",
      "metadata": {
        "id": "bce15ffc"
      },
      "source": [
        "# Box Plot of Returns of Apple and Meta"
      ]
    },
    {
      "cell_type": "code",
      "execution_count": 29,
      "id": "7edf203f",
      "metadata": {
        "colab": {
          "base_uri": "https://localhost:8080/",
          "height": 391
        },
        "id": "7edf203f",
        "outputId": "36d6dc27-f6b5-43b8-ef64-ced4f4623d37"
      },
      "outputs": [
        {
          "output_type": "display_data",
          "data": {
            "text/plain": [
              "<Figure size 600x400 with 1 Axes>"
            ],
            "image/png": "[encoded data removed]"
          },
          "metadata": {}
        }
      ],
      "source": [
        "props = dict(boxes=\"Green\", whiskers=\"Green\", medians=\"Red\", caps=\"Green\")\n",
        "color=['blue','yellow']\n",
        "fig,ax = plt.subplots(figsize=(6,4), facecolor = 'lavender')\n",
        "ax,props=df1.boxplot( column =['Return_x','Return_y'], grid = False, color=props, patch_artist=True,return_type='both', ax=ax)\n",
        "ax.set_facecolor('LightGrey')\n",
        "#ax,props = df.plot.box(patch_artist=True, return_type='both', ax=ax)\n",
        "for patch,color in zip(props['boxes'],color):\n",
        "    patch.set_facecolor(color)\n",
        "\n",
        "plt.title(\"BoxPlot of Apple and Meta Returns\")\n",
        "plt.show();"
      ]
    },
    {
      "cell_type": "markdown",
      "id": "716a9d18",
      "metadata": {
        "id": "716a9d18"
      },
      "source": [
        "# Apple and Meta Stock Price Daily Adj Close Time Series Daily Chart"
      ]
    },
    {
      "cell_type": "code",
      "execution_count": 28,
      "id": "7a8f046b",
      "metadata": {
        "colab": {
          "base_uri": "https://localhost:8080/",
          "height": 410
        },
        "id": "7a8f046b",
        "outputId": "b2b444e7-74a2-42ca-f51c-51d55b1c9647"
      },
      "outputs": [
        {
          "output_type": "display_data",
          "data": {
            "text/plain": [
              "<Figure size 600x400 with 1 Axes>"
            ],
            "image/png": "[encoded data removed]"
          },
          "metadata": {}
        }
      ],
      "source": [
        "# Plotting the time series of Closing  Prices\n",
        "plt.figure(figsize=(6, 4))\n",
        "plt.plot(aapl_stock_data.index, aapl_stock_data['Adj Close'], label='AAPL Adj Close Price', color='blue')\n",
        "plt.plot(meta_stock_data.index, meta_stock_data['Adj Close'], label='Meta Adj Close Price', color='red', linestyle='--')\n",
        "\n",
        "plt.title('Apple vs Meta Adj Closing Price Movement Over Time')\n",
        "plt.xlabel('Date')\n",
        "plt.ylabel('Adj Close Price')\n",
        "plt.legend()\n",
        "plt.grid(True)\n",
        "plt.show()"
      ]
    },
    {
      "cell_type": "markdown",
      "id": "9dbbab4b",
      "metadata": {
        "id": "9dbbab4b"
      },
      "source": [
        "# Scatter Plot of Adj Close"
      ]
    },
    {
      "cell_type": "code",
      "execution_count": 26,
      "id": "4dc13829",
      "metadata": {
        "colab": {
          "base_uri": "https://localhost:8080/",
          "height": 410
        },
        "id": "4dc13829",
        "outputId": "ea3cb9bd-ddde-4f2f-a9f6-32495a83d65b"
      },
      "outputs": [
        {
          "output_type": "display_data",
          "data": {
            "text/plain": [
              "<Figure size 600x400 with 1 Axes>"
            ],
            "image/png": "[encoded data removed]"
          },
          "metadata": {}
        }
      ],
      "source": [
        "# Create scatter plot\n",
        "fig, ax = plt.subplots(figsize=(6, 4))\n",
        "scatt = df1.plot.scatter(x=\"Adj Close_x\", y=\"Adj Close_y\", ax=ax)\n",
        "scatt.set(xlabel=\"Apple Adj Close\", ylabel=\"Meta Adj Close\", title=\"Apple vs Meta Adj Close scatter Plot\")\n",
        "\n",
        "plt.show()"
      ]
    },
    {
      "cell_type": "markdown",
      "id": "ee17b4e7",
      "metadata": {
        "id": "ee17b4e7"
      },
      "source": [
        "# Scatter Plot of Daily Returns"
      ]
    },
    {
      "cell_type": "code",
      "execution_count": 25,
      "id": "63cbe14b",
      "metadata": {
        "colab": {
          "base_uri": "https://localhost:8080/",
          "height": 410
        },
        "id": "63cbe14b",
        "outputId": "8a029a0f-129d-4b31-e288-bc8148c55c8e"
      },
      "outputs": [
        {
          "output_type": "display_data",
          "data": {
            "text/plain": [
              "<Figure size 700x400 with 1 Axes>"
            ],
            "image/png": "[encoded data removed]"
          },
          "metadata": {}
        }
      ],
      "source": [
        "# Create scatter plot\n",
        "fig, ax = plt.subplots(figsize=(7, 4))\n",
        "scatt = df1.plot.scatter(x=\"Return_x\", y=\"Return_y\", ax=ax)\n",
        "scatt.set(xlabel=\"Apple Daily Returns\", ylabel=\"Meta Daily Returns\", title=\"Apple vs Meta Daily Returns scatter Plot\")\n",
        "\n",
        "plt.show()"
      ]
    },
    {
      "cell_type": "raw",
      "id": "f47307a4",
      "metadata": {
        "id": "f47307a4"
      },
      "source": [
        "From Figure, we can see three interesting patterns. First, they seem to have a positive relationship.\n",
        "We can see as Apple Return increases, Meta Return increases too.\n",
        "Second, presence of outliers and leverage points\n",
        "third, it is considerable dense at the centre, to see the effect of outliers, we need to dilute the centre part so that\n",
        " we can see the influence of outliers on regression lines"
      ]
    },
    {
      "cell_type": "markdown",
      "id": "e57b0064",
      "metadata": {
        "id": "e57b0064"
      },
      "source": [
        "## Sensitivity to outliers : Visualization - Part 1"
      ]
    },
    {
      "cell_type": "markdown",
      "source": [
        "## First, we will create model on Untreated Dataset\n",
        "# Model1: OLS model"
      ],
      "metadata": {
        "id": "X3Buv_1yiH0u"
      },
      "id": "X3Buv_1yiH0u"
    },
    {
      "cell_type": "code",
      "execution_count": 24,
      "id": "5a7eec94",
      "metadata": {
        "colab": {
          "base_uri": "https://localhost:8080/",
          "height": 452
        },
        "id": "5a7eec94",
        "outputId": "ce23eb73-7f86-48b5-b768-f284425628ea"
      },
      "outputs": [
        {
          "output_type": "execute_result",
          "data": {
            "text/plain": [
              "<class 'statsmodels.iolib.summary.Summary'>\n",
              "\"\"\"\n",
              "                            OLS Regression Results                            \n",
              "==============================================================================\n",
              "Dep. Variable:               Return_x   R-squared:                       0.319\n",
              "Model:                            OLS   Adj. R-squared:                  0.318\n",
              "Method:                 Least Squares   F-statistic:                     626.0\n",
              "Date:                Tue, 30 Jul 2024   Prob (F-statistic):          1.21e-113\n",
              "Time:                        21:26:02   Log-Likelihood:                 3598.2\n",
              "No. Observations:                1339   AIC:                            -7192.\n",
              "Df Residuals:                    1337   BIC:                            -7182.\n",
              "Df Model:                           1                                         \n",
              "Covariance Type:            nonrobust                                         \n",
              "==============================================================================\n",
              "                 coef    std err          t      P>|t|      [0.025      0.975]\n",
              "------------------------------------------------------------------------------\n",
              "Intercept      0.0008      0.000      1.832      0.067   -5.85e-05       0.002\n",
              "Return_y       0.4071      0.016     25.021      0.000       0.375       0.439\n",
              "==============================================================================\n",
              "Omnibus:                      140.425   Durbin-Watson:                   2.071\n",
              "Prob(Omnibus):                  0.000   Jarque-Bera (JB):             1012.911\n",
              "Skew:                           0.145   Prob(JB):                    1.12e-220\n",
              "Kurtosis:                       7.251   Cond. No.                         36.1\n",
              "==============================================================================\n",
              "\n",
              "Notes:\n",
              "[1] Standard Errors assume that the covariance matrix of the errors is correctly specified.\n",
              "\"\"\""
            ],
            "text/html": [
              "<table class=\"simpletable\">\n",
              "<caption>OLS Regression Results</caption>\n",
              "<tr>\n",
              "  <th>Dep. Variable:</th>        <td>Return_x</td>     <th>  R-squared:         </th> <td>   0.319</td> \n",
              "</tr>\n",
              "<tr>\n",
              "  <th>Model:</th>                   <td>OLS</td>       <th>  Adj. R-squared:    </th> <td>   0.318</td> \n",
              "</tr>\n",
              "<tr>\n",
              "  <th>Method:</th>             <td>Least Squares</td>  <th>  F-statistic:       </th> <td>   626.0</td> \n",
              "</tr>\n",
              "<tr>\n",
              "  <th>Date:</th>             <td>Tue, 30 Jul 2024</td> <th>  Prob (F-statistic):</th> <td>1.21e-113</td>\n",
              "</tr>\n",
              "<tr>\n",
              "  <th>Time:</th>                 <td>21:26:02</td>     <th>  Log-Likelihood:    </th> <td>  3598.2</td> \n",
              "</tr>\n",
              "<tr>\n",
              "  <th>No. Observations:</th>      <td>  1339</td>      <th>  AIC:               </th> <td>  -7192.</td> \n",
              "</tr>\n",
              "<tr>\n",
              "  <th>Df Residuals:</th>          <td>  1337</td>      <th>  BIC:               </th> <td>  -7182.</td> \n",
              "</tr>\n",
              "<tr>\n",
              "  <th>Df Model:</th>              <td>     1</td>      <th>                     </th>     <td> </td>    \n",
              "</tr>\n",
              "<tr>\n",
              "  <th>Covariance Type:</th>      <td>nonrobust</td>    <th>                     </th>     <td> </td>    \n",
              "</tr>\n",
              "</table>\n",
              "<table class=\"simpletable\">\n",
              "<tr>\n",
              "      <td></td>         <th>coef</th>     <th>std err</th>      <th>t</th>      <th>P>|t|</th>  <th>[0.025</th>    <th>0.975]</th>  \n",
              "</tr>\n",
              "<tr>\n",
              "  <th>Intercept</th> <td>    0.0008</td> <td>    0.000</td> <td>    1.832</td> <td> 0.067</td> <td>-5.85e-05</td> <td>    0.002</td>\n",
              "</tr>\n",
              "<tr>\n",
              "  <th>Return_y</th>  <td>    0.4071</td> <td>    0.016</td> <td>   25.021</td> <td> 0.000</td> <td>    0.375</td> <td>    0.439</td>\n",
              "</tr>\n",
              "</table>\n",
              "<table class=\"simpletable\">\n",
              "<tr>\n",
              "  <th>Omnibus:</th>       <td>140.425</td> <th>  Durbin-Watson:     </th> <td>   2.071</td> \n",
              "</tr>\n",
              "<tr>\n",
              "  <th>Prob(Omnibus):</th> <td> 0.000</td>  <th>  Jarque-Bera (JB):  </th> <td>1012.911</td> \n",
              "</tr>\n",
              "<tr>\n",
              "  <th>Skew:</th>          <td> 0.145</td>  <th>  Prob(JB):          </th> <td>1.12e-220</td>\n",
              "</tr>\n",
              "<tr>\n",
              "  <th>Kurtosis:</th>      <td> 7.251</td>  <th>  Cond. No.          </th> <td>    36.1</td> \n",
              "</tr>\n",
              "</table><br/><br/>Notes:<br/>[1] Standard Errors assume that the covariance matrix of the errors is correctly specified."
            ],
            "text/latex": "\\begin{center}\n\\begin{tabular}{lclc}\n\\toprule\n\\textbf{Dep. Variable:}    &    Return\\_x     & \\textbf{  R-squared:         } &     0.319   \\\\\n\\textbf{Model:}            &       OLS        & \\textbf{  Adj. R-squared:    } &     0.318   \\\\\n\\textbf{Method:}           &  Least Squares   & \\textbf{  F-statistic:       } &     626.0   \\\\\n\\textbf{Date:}             & Tue, 30 Jul 2024 & \\textbf{  Prob (F-statistic):} & 1.21e-113   \\\\\n\\textbf{Time:}             &     21:26:02     & \\textbf{  Log-Likelihood:    } &    3598.2   \\\\\n\\textbf{No. Observations:} &        1339      & \\textbf{  AIC:               } &    -7192.   \\\\\n\\textbf{Df Residuals:}     &        1337      & \\textbf{  BIC:               } &    -7182.   \\\\\n\\textbf{Df Model:}         &           1      & \\textbf{                     } &             \\\\\n\\textbf{Covariance Type:}  &    nonrobust     & \\textbf{                     } &             \\\\\n\\bottomrule\n\\end{tabular}\n\\begin{tabular}{lcccccc}\n                   & \\textbf{coef} & \\textbf{std err} & \\textbf{t} & \\textbf{P$> |$t$|$} & \\textbf{[0.025} & \\textbf{0.975]}  \\\\\n\\midrule\n\\textbf{Intercept} &       0.0008  &        0.000     &     1.832  &         0.067        &    -5.85e-05    &        0.002     \\\\\n\\textbf{Return\\_y} &       0.4071  &        0.016     &    25.021  &         0.000        &        0.375    &        0.439     \\\\\n\\bottomrule\n\\end{tabular}\n\\begin{tabular}{lclc}\n\\textbf{Omnibus:}       & 140.425 & \\textbf{  Durbin-Watson:     } &     2.071  \\\\\n\\textbf{Prob(Omnibus):} &   0.000 & \\textbf{  Jarque-Bera (JB):  } &  1012.911  \\\\\n\\textbf{Skew:}          &   0.145 & \\textbf{  Prob(JB):          } & 1.12e-220  \\\\\n\\textbf{Kurtosis:}      &   7.251 & \\textbf{  Cond. No.          } &      36.1  \\\\\n\\bottomrule\n\\end{tabular}\n%\\caption{OLS Regression Results}\n\\end{center}\n\nNotes: \\newline\n [1] Standard Errors assume that the covariance matrix of the errors is correctly specified."
          },
          "metadata": {},
          "execution_count": 24
        }
      ],
      "source": [
        "# OLS model\n",
        "model_1 = smf.ols(\"Return_x ~ Return_y\", data=df1).fit()\n",
        "model_1.summary()"
      ]
    },
    {
      "cell_type": "code",
      "execution_count": 33,
      "id": "dcffc085",
      "metadata": {
        "colab": {
          "base_uri": "https://localhost:8080/"
        },
        "id": "dcffc085",
        "outputId": "c0755816-7c3f-476d-ac59-5a843fa34576"
      },
      "outputs": [
        {
          "output_type": "stream",
          "name": "stdout",
          "text": [
            "              Coef.  Std.Err.          t          P>|t|    [0.025    0.975]\n",
            "Intercept  0.000826  0.000451   1.832110   6.715744e-02 -0.000058  0.001711\n",
            "Return_y   0.407073  0.016270  25.020503  1.213705e-113  0.375157  0.438990\n"
          ]
        }
      ],
      "source": [
        "# Parameters with high precision\n",
        "print(model_1.summary2().tables[1])"
      ]
    },
    {
      "cell_type": "raw",
      "id": "f8239256",
      "metadata": {
        "id": "f8239256"
      },
      "source": [
        "We can see that Apple Return_x and Meta Return_y have a positive coefficient, which is consistent\n",
        "with what we saw in the scatter plot.\n",
        "The coefficient is also significant. The  𝑅2 is not very good for this simple regression model"
      ]
    },
    {
      "cell_type": "code",
      "execution_count": 35,
      "id": "7503fa69",
      "metadata": {
        "colab": {
          "base_uri": "https://localhost:8080/",
          "height": 410
        },
        "id": "7503fa69",
        "outputId": "2b2a3c8d-42a1-4235-9e15-9e9396c76e1c"
      },
      "outputs": [
        {
          "output_type": "display_data",
          "data": {
            "text/plain": [
              "<Figure size 600x400 with 1 Axes>"
            ],
            "image/png": "[encoded data removed]"
          },
          "metadata": {}
        }
      ],
      "source": [
        "# Scatter Plot for OLS Fitted Values and OLS Residuals\n",
        "plt.figure(figsize=(6, 4))\n",
        "# Fitted values and residuals\n",
        "model_fitted_y = model_1.fittedvalues\n",
        "model_resid_y = model_1.resid\n",
        "\n",
        "# Plot\n",
        "plt.scatter(x=model_fitted_y, y=model_resid_y)\n",
        "plt.title(\"OLS Residuals vs OLS Fitted Values\")\n",
        "plt.xlabel(\"OLS Fitted values\")\n",
        "plt.ylabel(\"OLS Residuals\")\n",
        "plt.show()"
      ]
    },
    {
      "cell_type": "code",
      "execution_count": null,
      "id": "3fe0596f",
      "metadata": {
        "id": "3fe0596f"
      },
      "outputs": [],
      "source": [
        "# Figure shows that there is some variation in residuals and because R-square is low, we have to improve the model"
      ]
    },
    {
      "cell_type": "markdown",
      "id": "f238e36f",
      "metadata": {
        "id": "f238e36f"
      },
      "source": [
        "## Breusch-Pagan Test Result : heteroskedasticity"
      ]
    },
    {
      "cell_type": "code",
      "execution_count": 36,
      "id": "80bfa7c1",
      "metadata": {
        "colab": {
          "base_uri": "https://localhost:8080/",
          "height": 157
        },
        "id": "80bfa7c1",
        "outputId": "2acc9c81-1531-455e-b763-e52bcbfca68f"
      },
      "outputs": [
        {
          "output_type": "execute_result",
          "data": {
            "text/plain": [
              "                                       \n",
              "Lagrange multiplier statistic  2.351033\n",
              "p-value                        0.125200\n",
              "f-value                        2.351650\n",
              "f p-value                      0.125387"
            ],
            "text/html": [
              "\n",
              "  <div id=\"df-9677c754-ac47-40c0-bb4f-86676fccf0d4\" class=\"colab-df-container\">\n",
              "    <div>\n",
              "<style scoped>\n",
              "    .dataframe tbody tr th:only-of-type {\n",
              "        vertical-align: middle;\n",
              "    }\n",
              "\n",
              "    .dataframe tbody tr th {\n",
              "        vertical-align: top;\n",
              "    }\n",
              "\n",
              "    .dataframe thead th {\n",
              "        text-align: right;\n",
              "    }\n",
              "</style>\n",
              "<table border=\"1\" class=\"dataframe\">\n",
              "  <thead>\n",
              "    <tr style=\"text-align: right;\">\n",
              "      <th></th>\n",
              "      <th></th>\n",
              "    </tr>\n",
              "  </thead>\n",
              "  <tbody>\n",
              "    <tr>\n",
              "      <th>Lagrange multiplier statistic</th>\n",
              "      <td>2.351033</td>\n",
              "    </tr>\n",
              "    <tr>\n",
              "      <th>p-value</th>\n",
              "      <td>0.125200</td>\n",
              "    </tr>\n",
              "    <tr>\n",
              "      <th>f-value</th>\n",
              "      <td>2.351650</td>\n",
              "    </tr>\n",
              "    <tr>\n",
              "      <th>f p-value</th>\n",
              "      <td>0.125387</td>\n",
              "    </tr>\n",
              "  </tbody>\n",
              "</table>\n",
              "</div>\n",
              "    <div class=\"colab-df-buttons\">\n",
              "\n",
              "  <div class=\"colab-df-container\">\n",
              "    <button class=\"colab-df-convert\" onclick=\"convertToInteractive('df-9677c754-ac47-40c0-bb4f-86676fccf0d4')\"\n",
              "            title=\"Convert this dataframe to an interactive table.\"\n",
              "            style=\"display:none;\">\n",
              "\n",
              "  <svg xmlns=\"http://www.w3.org/2000/svg\" height=\"24px\" viewBox=\"0 -960 960 960\">\n",
              "    <path d=\"M120-120v-720h720v720H120Zm60-500h600v-160H180v160Zm220 220h160v-160H400v160Zm0 220h160v-160H400v160ZM180-400h160v-160H180v160Zm440 0h160v-160H620v160ZM180-180h160v-160H180v160Zm440 0h160v-160H620v160Z\"/>\n",
              "  </svg>\n",
              "    </button>\n",
              "\n",
              "  <style>\n",
              "    .colab-df-container {\n",
              "      display:flex;\n",
              "      gap: 12px;\n",
              "    }\n",
              "\n",
              "    .colab-df-convert {\n",
              "      background-color: #E8F0FE;\n",
              "      border: none;\n",
              "      border-radius: 50%;\n",
              "      cursor: pointer;\n",
              "      display: none;\n",
              "      fill: #1967D2;\n",
              "      height: 32px;\n",
              "      padding: 0 0 0 0;\n",
              "      width: 32px;\n",
              "    }\n",
              "\n",
              "    .colab-df-convert:hover {\n",
              "      background-color: #E2EBFA;\n",
              "      box-shadow: 0px 1px 2px rgba(60, 64, 67, 0.3), 0px 1px 3px 1px rgba(60, 64, 67, 0.15);\n",
              "      fill: #174EA6;\n",
              "    }\n",
              "\n",
              "    .colab-df-buttons div {\n",
              "      margin-bottom: 4px;\n",
              "    }\n",
              "\n",
              "    [theme=dark] .colab-df-convert {\n",
              "      background-color: #3B4455;\n",
              "      fill: #D2E3FC;\n",
              "    }\n",
              "\n",
              "    [theme=dark] .colab-df-convert:hover {\n",
              "      background-color: #434B5C;\n",
              "      box-shadow: 0px 1px 3px 1px rgba(0, 0, 0, 0.15);\n",
              "      filter: drop-shadow(0px 1px 2px rgba(0, 0, 0, 0.3));\n",
              "      fill: #FFFFFF;\n",
              "    }\n",
              "  </style>\n",
              "\n",
              "    <script>\n",
              "      const buttonEl =\n",
              "        document.querySelector('#df-9677c754-ac47-40c0-bb4f-86676fccf0d4 button.colab-df-convert');\n",
              "      buttonEl.style.display =\n",
              "        google.colab.kernel.accessAllowed ? 'block' : 'none';\n",
              "\n",
              "      async function convertToInteractive(key) {\n",
              "        const element = document.querySelector('#df-9677c754-ac47-40c0-bb4f-86676fccf0d4');\n",
              "        const dataTable =\n",
              "          await google.colab.kernel.invokeFunction('convertToInteractive',\n",
              "                                                    [key], {});\n",
              "        if (!dataTable) return;\n",
              "\n",
              "        const docLinkHtml = 'Like what you see? Visit the ' +\n",
              "          '<a target=\"_blank\" href=https://colab.research.google.com/notebooks/data_table.ipynb>data table notebook</a>'\n",
              "          + ' to learn more about interactive tables.';\n",
              "        element.innerHTML = '';\n",
              "        dataTable['output_type'] = 'display_data';\n",
              "        await google.colab.output.renderOutput(dataTable, element);\n",
              "        const docLink = document.createElement('div');\n",
              "        docLink.innerHTML = docLinkHtml;\n",
              "        element.appendChild(docLink);\n",
              "      }\n",
              "    </script>\n",
              "  </div>\n",
              "\n",
              "\n",
              "<div id=\"df-7c33eaed-6b28-442a-9321-03aa03cc19d4\">\n",
              "  <button class=\"colab-df-quickchart\" onclick=\"quickchart('df-7c33eaed-6b28-442a-9321-03aa03cc19d4')\"\n",
              "            title=\"Suggest charts\"\n",
              "            style=\"display:none;\">\n",
              "\n",
              "<svg xmlns=\"http://www.w3.org/2000/svg\" height=\"24px\"viewBox=\"0 0 24 24\"\n",
              "     width=\"24px\">\n",
              "    <g>\n",
              "        <path d=\"M19 3H5c-1.1 0-2 .9-2 2v14c0 1.1.9 2 2 2h14c1.1 0 2-.9 2-2V5c0-1.1-.9-2-2-2zM9 17H7v-7h2v7zm4 0h-2V7h2v10zm4 0h-2v-4h2v4z\"/>\n",
              "    </g>\n",
              "</svg>\n",
              "  </button>\n",
              "\n",
              "<style>\n",
              "  .colab-df-quickchart {\n",
              "      --bg-color: #E8F0FE;\n",
              "      --fill-color: #1967D2;\n",
              "      --hover-bg-color: #E2EBFA;\n",
              "      --hover-fill-color: #174EA6;\n",
              "      --disabled-fill-color: #AAA;\n",
              "      --disabled-bg-color: #DDD;\n",
              "  }\n",
              "\n",
              "  [theme=dark] .colab-df-quickchart {\n",
              "      --bg-color: #3B4455;\n",
              "      --fill-color: #D2E3FC;\n",
              "      --hover-bg-color: #434B5C;\n",
              "      --hover-fill-color: #FFFFFF;\n",
              "      --disabled-bg-color: #3B4455;\n",
              "      --disabled-fill-color: #666;\n",
              "  }\n",
              "\n",
              "  .colab-df-quickchart {\n",
              "    background-color: var(--bg-color);\n",
              "    border: none;\n",
              "    border-radius: 50%;\n",
              "    cursor: pointer;\n",
              "    display: none;\n",
              "    fill: var(--fill-color);\n",
              "    height: 32px;\n",
              "    padding: 0;\n",
              "    width: 32px;\n",
              "  }\n",
              "\n",
              "  .colab-df-quickchart:hover {\n",
              "    background-color: var(--hover-bg-color);\n",
              "    box-shadow: 0 1px 2px rgba(60, 64, 67, 0.3), 0 1px 3px 1px rgba(60, 64, 67, 0.15);\n",
              "    fill: var(--button-hover-fill-color);\n",
              "  }\n",
              "\n",
              "  .colab-df-quickchart-complete:disabled,\n",
              "  .colab-df-quickchart-complete:disabled:hover {\n",
              "    background-color: var(--disabled-bg-color);\n",
              "    fill: var(--disabled-fill-color);\n",
              "    box-shadow: none;\n",
              "  }\n",
              "\n",
              "  .colab-df-spinner {\n",
              "    border: 2px solid var(--fill-color);\n",
              "    border-color: transparent;\n",
              "    border-bottom-color: var(--fill-color);\n",
              "    animation:\n",
              "      spin 1s steps(1) infinite;\n",
              "  }\n",
              "\n",
              "  @keyframes spin {\n",
              "    0% {\n",
              "      border-color: transparent;\n",
              "      border-bottom-color: var(--fill-color);\n",
              "      border-left-color: var(--fill-color);\n",
              "    }\n",
              "    20% {\n",
              "      border-color: transparent;\n",
              "      border-left-color: var(--fill-color);\n",
              "      border-top-color: var(--fill-color);\n",
              "    }\n",
              "    30% {\n",
              "      border-color: transparent;\n",
              "      border-left-color: var(--fill-color);\n",
              "      border-top-color: var(--fill-color);\n",
              "      border-right-color: var(--fill-color);\n",
              "    }\n",
              "    40% {\n",
              "      border-color: transparent;\n",
              "      border-right-color: var(--fill-color);\n",
              "      border-top-color: var(--fill-color);\n",
              "    }\n",
              "    60% {\n",
              "      border-color: transparent;\n",
              "      border-right-color: var(--fill-color);\n",
              "    }\n",
              "    80% {\n",
              "      border-color: transparent;\n",
              "      border-right-color: var(--fill-color);\n",
              "      border-bottom-color: var(--fill-color);\n",
              "    }\n",
              "    90% {\n",
              "      border-color: transparent;\n",
              "      border-bottom-color: var(--fill-color);\n",
              "    }\n",
              "  }\n",
              "</style>\n",
              "\n",
              "  <script>\n",
              "    async function quickchart(key) {\n",
              "      const quickchartButtonEl =\n",
              "        document.querySelector('#' + key + ' button');\n",
              "      quickchartButtonEl.disabled = true;  // To prevent multiple clicks.\n",
              "      quickchartButtonEl.classList.add('colab-df-spinner');\n",
              "      try {\n",
              "        const charts = await google.colab.kernel.invokeFunction(\n",
              "            'suggestCharts', [key], {});\n",
              "      } catch (error) {\n",
              "        console.error('Error during call to suggestCharts:', error);\n",
              "      }\n",
              "      quickchartButtonEl.classList.remove('colab-df-spinner');\n",
              "      quickchartButtonEl.classList.add('colab-df-quickchart-complete');\n",
              "    }\n",
              "    (() => {\n",
              "      let quickchartButtonEl =\n",
              "        document.querySelector('#df-7c33eaed-6b28-442a-9321-03aa03cc19d4 button');\n",
              "      quickchartButtonEl.style.display =\n",
              "        google.colab.kernel.accessAllowed ? 'block' : 'none';\n",
              "    })();\n",
              "  </script>\n",
              "</div>\n",
              "\n",
              "    </div>\n",
              "  </div>\n"
            ],
            "application/vnd.google.colaboratory.intrinsic+json": {
              "type": "dataframe",
              "summary": "{\n  \"name\": \"pd\",\n  \"rows\": 4,\n  \"fields\": [\n    {\n      \"column\": \"\",\n      \"properties\": {\n        \"dtype\": \"number\",\n        \"std\": 1.2852095830910428,\n        \"min\": 0.12520001424894311,\n        \"max\": 2.3516504837463903,\n        \"num_unique_values\": 4,\n        \"samples\": [\n          0.12520001424894311,\n          0.12538702180560402,\n          2.351033051401541\n        ],\n        \"semantic_type\": \"\",\n        \"description\": \"\"\n      }\n    }\n  ]\n}"
            }
          },
          "metadata": {},
          "execution_count": 36
        }
      ],
      "source": [
        "# Breusch-Pagan Test\n",
        "name = [\"Lagrange multiplier statistic\", \"p-value\", \"f-value\", \"f p-value\"]\n",
        "test = sms.het_breuschpagan(model_1.resid, model_1.model.exog)\n",
        "pd.DataFrame(test, index=name, columns=[\"\"])"
      ]
    },
    {
      "cell_type": "markdown",
      "id": "1bd12113",
      "metadata": {
        "id": "1bd12113"
      },
      "source": [
        "# because the p-value is greater than 0.05, there is no heteroskedasticity issue"
      ]
    },
    {
      "cell_type": "markdown",
      "id": "f3856552",
      "metadata": {
        "id": "f3856552"
      },
      "source": [
        "## Model2:  WLS Result"
      ]
    },
    {
      "cell_type": "code",
      "execution_count": 37,
      "id": "ac54b231",
      "metadata": {
        "colab": {
          "base_uri": "https://localhost:8080/",
          "height": 452
        },
        "id": "ac54b231",
        "outputId": "98ad752d-58b2-4b1f-a131-40b228765318"
      },
      "outputs": [
        {
          "output_type": "execute_result",
          "data": {
            "text/plain": [
              "<class 'statsmodels.iolib.summary.Summary'>\n",
              "\"\"\"\n",
              "                            WLS Regression Results                            \n",
              "==============================================================================\n",
              "Dep. Variable:                      y   R-squared:                       0.310\n",
              "Model:                            WLS   Adj. R-squared:                  0.310\n",
              "Method:                 Least Squares   F-statistic:                     601.0\n",
              "Date:                Tue, 30 Jul 2024   Prob (F-statistic):          6.52e-110\n",
              "Time:                        21:32:09   Log-Likelihood:                 3585.4\n",
              "No. Observations:                1339   AIC:                            -7167.\n",
              "Df Residuals:                    1337   BIC:                            -7156.\n",
              "Df Model:                           1                                         \n",
              "Covariance Type:            nonrobust                                         \n",
              "==============================================================================\n",
              "                 coef    std err          t      P>|t|      [0.025      0.975]\n",
              "------------------------------------------------------------------------------\n",
              "const          0.0009      0.000      1.878      0.061   -3.84e-05       0.002\n",
              "x1             0.3906      0.016     24.515      0.000       0.359       0.422\n",
              "==============================================================================\n",
              "Omnibus:                      163.133   Durbin-Watson:                   2.098\n",
              "Prob(Omnibus):                  0.000   Jarque-Bera (JB):             1602.148\n",
              "Skew:                           0.031   Prob(JB):                         0.00\n",
              "Kurtosis:                       8.358   Cond. No.                         35.1\n",
              "==============================================================================\n",
              "\n",
              "Notes:\n",
              "[1] Standard Errors assume that the covariance matrix of the errors is correctly specified.\n",
              "\"\"\""
            ],
            "text/html": [
              "<table class=\"simpletable\">\n",
              "<caption>WLS Regression Results</caption>\n",
              "<tr>\n",
              "  <th>Dep. Variable:</th>            <td>y</td>        <th>  R-squared:         </th> <td>   0.310</td> \n",
              "</tr>\n",
              "<tr>\n",
              "  <th>Model:</th>                   <td>WLS</td>       <th>  Adj. R-squared:    </th> <td>   0.310</td> \n",
              "</tr>\n",
              "<tr>\n",
              "  <th>Method:</th>             <td>Least Squares</td>  <th>  F-statistic:       </th> <td>   601.0</td> \n",
              "</tr>\n",
              "<tr>\n",
              "  <th>Date:</th>             <td>Tue, 30 Jul 2024</td> <th>  Prob (F-statistic):</th> <td>6.52e-110</td>\n",
              "</tr>\n",
              "<tr>\n",
              "  <th>Time:</th>                 <td>21:32:09</td>     <th>  Log-Likelihood:    </th> <td>  3585.4</td> \n",
              "</tr>\n",
              "<tr>\n",
              "  <th>No. Observations:</th>      <td>  1339</td>      <th>  AIC:               </th> <td>  -7167.</td> \n",
              "</tr>\n",
              "<tr>\n",
              "  <th>Df Residuals:</th>          <td>  1337</td>      <th>  BIC:               </th> <td>  -7156.</td> \n",
              "</tr>\n",
              "<tr>\n",
              "  <th>Df Model:</th>              <td>     1</td>      <th>                     </th>     <td> </td>    \n",
              "</tr>\n",
              "<tr>\n",
              "  <th>Covariance Type:</th>      <td>nonrobust</td>    <th>                     </th>     <td> </td>    \n",
              "</tr>\n",
              "</table>\n",
              "<table class=\"simpletable\">\n",
              "<tr>\n",
              "    <td></td>       <th>coef</th>     <th>std err</th>      <th>t</th>      <th>P>|t|</th>  <th>[0.025</th>    <th>0.975]</th>  \n",
              "</tr>\n",
              "<tr>\n",
              "  <th>const</th> <td>    0.0009</td> <td>    0.000</td> <td>    1.878</td> <td> 0.061</td> <td>-3.84e-05</td> <td>    0.002</td>\n",
              "</tr>\n",
              "<tr>\n",
              "  <th>x1</th>    <td>    0.3906</td> <td>    0.016</td> <td>   24.515</td> <td> 0.000</td> <td>    0.359</td> <td>    0.422</td>\n",
              "</tr>\n",
              "</table>\n",
              "<table class=\"simpletable\">\n",
              "<tr>\n",
              "  <th>Omnibus:</th>       <td>163.133</td> <th>  Durbin-Watson:     </th> <td>   2.098</td>\n",
              "</tr>\n",
              "<tr>\n",
              "  <th>Prob(Omnibus):</th> <td> 0.000</td>  <th>  Jarque-Bera (JB):  </th> <td>1602.148</td>\n",
              "</tr>\n",
              "<tr>\n",
              "  <th>Skew:</th>          <td> 0.031</td>  <th>  Prob(JB):          </th> <td>    0.00</td>\n",
              "</tr>\n",
              "<tr>\n",
              "  <th>Kurtosis:</th>      <td> 8.358</td>  <th>  Cond. No.          </th> <td>    35.1</td>\n",
              "</tr>\n",
              "</table><br/><br/>Notes:<br/>[1] Standard Errors assume that the covariance matrix of the errors is correctly specified."
            ],
            "text/latex": "\\begin{center}\n\\begin{tabular}{lclc}\n\\toprule\n\\textbf{Dep. Variable:}    &        y         & \\textbf{  R-squared:         } &     0.310   \\\\\n\\textbf{Model:}            &       WLS        & \\textbf{  Adj. R-squared:    } &     0.310   \\\\\n\\textbf{Method:}           &  Least Squares   & \\textbf{  F-statistic:       } &     601.0   \\\\\n\\textbf{Date:}             & Tue, 30 Jul 2024 & \\textbf{  Prob (F-statistic):} & 6.52e-110   \\\\\n\\textbf{Time:}             &     21:32:09     & \\textbf{  Log-Likelihood:    } &    3585.4   \\\\\n\\textbf{No. Observations:} &        1339      & \\textbf{  AIC:               } &    -7167.   \\\\\n\\textbf{Df Residuals:}     &        1337      & \\textbf{  BIC:               } &    -7156.   \\\\\n\\textbf{Df Model:}         &           1      & \\textbf{                     } &             \\\\\n\\textbf{Covariance Type:}  &    nonrobust     & \\textbf{                     } &             \\\\\n\\bottomrule\n\\end{tabular}\n\\begin{tabular}{lcccccc}\n               & \\textbf{coef} & \\textbf{std err} & \\textbf{t} & \\textbf{P$> |$t$|$} & \\textbf{[0.025} & \\textbf{0.975]}  \\\\\n\\midrule\n\\textbf{const} &       0.0009  &        0.000     &     1.878  &         0.061        &    -3.84e-05    &        0.002     \\\\\n\\textbf{x1}    &       0.3906  &        0.016     &    24.515  &         0.000        &        0.359    &        0.422     \\\\\n\\bottomrule\n\\end{tabular}\n\\begin{tabular}{lclc}\n\\textbf{Omnibus:}       & 163.133 & \\textbf{  Durbin-Watson:     } &    2.098  \\\\\n\\textbf{Prob(Omnibus):} &   0.000 & \\textbf{  Jarque-Bera (JB):  } & 1602.148  \\\\\n\\textbf{Skew:}          &   0.031 & \\textbf{  Prob(JB):          } &     0.00  \\\\\n\\textbf{Kurtosis:}      &   8.358 & \\textbf{  Cond. No.          } &     35.1  \\\\\n\\bottomrule\n\\end{tabular}\n%\\caption{WLS Regression Results}\n\\end{center}\n\nNotes: \\newline\n [1] Standard Errors assume that the covariance matrix of the errors is correctly specified."
          },
          "metadata": {},
          "execution_count": 37
        }
      ],
      "source": [
        "# WLS regression result\n",
        "\n",
        "# Add Absolute residuals and fitted values to dataset columns\n",
        "df1[\"abs_residuals1\"] = np.abs(model_1.resid)\n",
        "df1[\"fitted_values1\"] = model_1.fittedvalues\n",
        "\n",
        "# Fit OLS model with absolute residuals and fitted values\n",
        "model_temp = smf.ols(\"abs_residuals1 ~ fitted_values1\", data=df1).fit()\n",
        "\n",
        "# Compute weights and add it to the data_set column\n",
        "weights = model_temp.fittedvalues\n",
        "weights = weights**-2\n",
        "df1[\"weights1\"] = weights\n",
        "\n",
        "# Fit WLS model\n",
        "Y = df1[\"Return_x\"].tolist()\n",
        "X = df1[\"Return_y\"].tolist()\n",
        "X = sm.add_constant(X)  # add a intercept point\n",
        "\n",
        "model_WLS = sm.WLS(Y, X, df1[\"weights1\"]).fit()\n",
        "model_WLS.summary()"
      ]
    },
    {
      "cell_type": "code",
      "execution_count": 39,
      "id": "c60907df",
      "metadata": {
        "colab": {
          "base_uri": "https://localhost:8080/",
          "height": 388
        },
        "id": "c60907df",
        "outputId": "e6184f2f-28af-4505-f3c6-54376a78bdc2"
      },
      "outputs": [
        {
          "output_type": "display_data",
          "data": {
            "text/plain": [
              "<Figure size 600x400 with 1 Axes>"
            ],
            "image/png": "[encoded data removed]"
          },
          "metadata": {}
        }
      ],
      "source": [
        "# WLS fitted values and standardized residuals\n",
        "plt.figure(figsize=(6, 4))\n",
        "fitted_valuesWLS = model_WLS.fittedvalues\n",
        "model_residWLS = model_WLS.resid\n",
        "std_model_residWLS = model_residWLS / model_residWLS.std(ddof=1)\n",
        "\n",
        "# Plot WLS fitted v. vs standardized res. scatterplot\n",
        "plt.scatter(fitted_valuesWLS, std_model_residWLS)\n",
        "plt.xlabel(\"WLS fitted Values\")\n",
        "plt.ylabel(\"WLS Standardized Residuals\")\n",
        "plt.show()"
      ]
    },
    {
      "cell_type": "markdown",
      "id": "5c377319",
      "metadata": {
        "id": "5c377319"
      },
      "source": [
        "\n",
        "# Robust Regression\n",
        "## Model 3 :  Huber Method"
      ]
    },
    {
      "cell_type": "code",
      "execution_count": 40,
      "id": "8f9f2ba5",
      "metadata": {
        "colab": {
          "base_uri": "https://localhost:8080/",
          "height": 347
        },
        "id": "8f9f2ba5",
        "outputId": "ee85d513-8c37-4e13-c42b-ec8b8bbc52c9"
      },
      "outputs": [
        {
          "output_type": "execute_result",
          "data": {
            "text/plain": [
              "<class 'statsmodels.iolib.summary.Summary'>\n",
              "\"\"\"\n",
              "                    Robust linear Model Regression Results                    \n",
              "==============================================================================\n",
              "Dep. Variable:               Return_x   No. Observations:                 1339\n",
              "Model:                            RLM   Df Residuals:                     1337\n",
              "Method:                          IRLS   Df Model:                            1\n",
              "Norm:                          HuberT                                         \n",
              "Scale Est.:                       mad                                         \n",
              "Cov Type:                          H1                                         \n",
              "Date:                Tue, 30 Jul 2024                                         \n",
              "Time:                        21:33:04                                         \n",
              "No. Iterations:                    29                                         \n",
              "==============================================================================\n",
              "                 coef    std err          z      P>|z|      [0.025      0.975]\n",
              "------------------------------------------------------------------------------\n",
              "const          0.0007      0.000      1.864      0.062   -3.69e-05       0.001\n",
              "Return_y       0.4342      0.014     31.436      0.000       0.407       0.461\n",
              "==============================================================================\n",
              "\n",
              "If the model instance has been used for another fit with different fit parameters, then the fit options might not be the correct ones anymore .\n",
              "\"\"\""
            ],
            "text/html": [
              "<table class=\"simpletable\">\n",
              "<caption>Robust linear Model Regression Results</caption>\n",
              "<tr>\n",
              "  <th>Dep. Variable:</th>      <td>Return_x</td>     <th>  No. Observations:  </th> <td>  1339</td>\n",
              "</tr>\n",
              "<tr>\n",
              "  <th>Model:</th>                 <td>RLM</td>       <th>  Df Residuals:      </th> <td>  1337</td>\n",
              "</tr>\n",
              "<tr>\n",
              "  <th>Method:</th>               <td>IRLS</td>       <th>  Df Model:          </th> <td>     1</td>\n",
              "</tr>\n",
              "<tr>\n",
              "  <th>Norm:</th>                <td>HuberT</td>      <th>                     </th>    <td> </td>  \n",
              "</tr>\n",
              "<tr>\n",
              "  <th>Scale Est.:</th>            <td>mad</td>       <th>                     </th>    <td> </td>  \n",
              "</tr>\n",
              "<tr>\n",
              "  <th>Cov Type:</th>              <td>H1</td>        <th>                     </th>    <td> </td>  \n",
              "</tr>\n",
              "<tr>\n",
              "  <th>Date:</th>           <td>Tue, 30 Jul 2024</td> <th>                     </th>    <td> </td>  \n",
              "</tr>\n",
              "<tr>\n",
              "  <th>Time:</th>               <td>21:33:04</td>     <th>                     </th>    <td> </td>  \n",
              "</tr>\n",
              "<tr>\n",
              "  <th>No. Iterations:</th>        <td>29</td>        <th>                     </th>    <td> </td>  \n",
              "</tr>\n",
              "</table>\n",
              "<table class=\"simpletable\">\n",
              "<tr>\n",
              "      <td></td>        <th>coef</th>     <th>std err</th>      <th>z</th>      <th>P>|z|</th>  <th>[0.025</th>    <th>0.975]</th>  \n",
              "</tr>\n",
              "<tr>\n",
              "  <th>const</th>    <td>    0.0007</td> <td>    0.000</td> <td>    1.864</td> <td> 0.062</td> <td>-3.69e-05</td> <td>    0.001</td>\n",
              "</tr>\n",
              "<tr>\n",
              "  <th>Return_y</th> <td>    0.4342</td> <td>    0.014</td> <td>   31.436</td> <td> 0.000</td> <td>    0.407</td> <td>    0.461</td>\n",
              "</tr>\n",
              "</table><br/><br/>If the model instance has been used for another fit with different fit parameters, then the fit options might not be the correct ones anymore ."
            ],
            "text/latex": "\\begin{center}\n\\begin{tabular}{lclc}\n\\toprule\n\\textbf{Dep. Variable:}  &    Return\\_x     & \\textbf{  No. Observations:  } &     1339    \\\\\n\\textbf{Model:}          &       RLM        & \\textbf{  Df Residuals:      } &     1337    \\\\\n\\textbf{Method:}         &       IRLS       & \\textbf{  Df Model:          } &        1    \\\\\n\\textbf{Norm:}           &      HuberT      & \\textbf{                     } &             \\\\\n\\textbf{Scale Est.:}     &       mad        & \\textbf{                     } &             \\\\\n\\textbf{Cov Type:}       &        H1        & \\textbf{                     } &             \\\\\n\\textbf{Date:}           & Tue, 30 Jul 2024 & \\textbf{                     } &             \\\\\n\\textbf{Time:}           &     21:33:04     & \\textbf{                     } &             \\\\\n\\textbf{No. Iterations:} &        29        & \\textbf{                     } &             \\\\\n\\bottomrule\n\\end{tabular}\n\\begin{tabular}{lcccccc}\n                   & \\textbf{coef} & \\textbf{std err} & \\textbf{z} & \\textbf{P$> |$z$|$} & \\textbf{[0.025} & \\textbf{0.975]}  \\\\\n\\midrule\n\\textbf{const}     &       0.0007  &        0.000     &     1.864  &         0.062        &    -3.69e-05    &        0.001     \\\\\n\\textbf{Return\\_y} &       0.4342  &        0.014     &    31.436  &         0.000        &        0.407    &        0.461     \\\\\n\\bottomrule\n\\end{tabular}\n%\\caption{Robust linear Model Regression Results}\n\\end{center}\n\nIf the model instance has been used for another fit with different fit parameters, then the fit options might not be the correct ones anymore ."
          },
          "metadata": {},
          "execution_count": 40
        }
      ],
      "source": [
        "# Robust Regression model\n",
        "rr_huber = sm.RLM(\n",
        "    df1[\"Return_x\"], sm.add_constant(df1[\"Return_y\"]), M=sm.robust.norms.HuberT()\n",
        ")\n",
        "rr_huber_results = rr_huber.fit()\n",
        "rr_huber_results.summary()"
      ]
    },
    {
      "cell_type": "markdown",
      "id": "7ff4e656",
      "metadata": {
        "id": "7ff4e656"
      },
      "source": [
        "## Model 4:  Bisquare Method"
      ]
    },
    {
      "cell_type": "code",
      "execution_count": 41,
      "id": "8a9745a1",
      "metadata": {
        "colab": {
          "base_uri": "https://localhost:8080/",
          "height": 347
        },
        "id": "8a9745a1",
        "outputId": "9d034391-d6d2-4f11-dac6-90ec10bb7848"
      },
      "outputs": [
        {
          "output_type": "execute_result",
          "data": {
            "text/plain": [
              "<class 'statsmodels.iolib.summary.Summary'>\n",
              "\"\"\"\n",
              "                    Robust linear Model Regression Results                    \n",
              "==============================================================================\n",
              "Dep. Variable:               Return_x   No. Observations:                 1339\n",
              "Model:                            RLM   Df Residuals:                     1337\n",
              "Method:                          IRLS   Df Model:                            1\n",
              "Norm:                   TukeyBiweight                                         \n",
              "Scale Est.:                       mad                                         \n",
              "Cov Type:                          H1                                         \n",
              "Date:                Tue, 30 Jul 2024                                         \n",
              "Time:                        21:33:22                                         \n",
              "No. Iterations:                    29                                         \n",
              "==============================================================================\n",
              "                 coef    std err          z      P>|z|      [0.025      0.975]\n",
              "------------------------------------------------------------------------------\n",
              "const          0.0006      0.000      1.548      0.122      -0.000       0.001\n",
              "Return_y       0.4437      0.014     32.437      0.000       0.417       0.470\n",
              "==============================================================================\n",
              "\n",
              "If the model instance has been used for another fit with different fit parameters, then the fit options might not be the correct ones anymore .\n",
              "\"\"\""
            ],
            "text/html": [
              "<table class=\"simpletable\">\n",
              "<caption>Robust linear Model Regression Results</caption>\n",
              "<tr>\n",
              "  <th>Dep. Variable:</th>      <td>Return_x</td>     <th>  No. Observations:  </th> <td>  1339</td>\n",
              "</tr>\n",
              "<tr>\n",
              "  <th>Model:</th>                 <td>RLM</td>       <th>  Df Residuals:      </th> <td>  1337</td>\n",
              "</tr>\n",
              "<tr>\n",
              "  <th>Method:</th>               <td>IRLS</td>       <th>  Df Model:          </th> <td>     1</td>\n",
              "</tr>\n",
              "<tr>\n",
              "  <th>Norm:</th>             <td>TukeyBiweight</td>  <th>                     </th>    <td> </td>  \n",
              "</tr>\n",
              "<tr>\n",
              "  <th>Scale Est.:</th>            <td>mad</td>       <th>                     </th>    <td> </td>  \n",
              "</tr>\n",
              "<tr>\n",
              "  <th>Cov Type:</th>              <td>H1</td>        <th>                     </th>    <td> </td>  \n",
              "</tr>\n",
              "<tr>\n",
              "  <th>Date:</th>           <td>Tue, 30 Jul 2024</td> <th>                     </th>    <td> </td>  \n",
              "</tr>\n",
              "<tr>\n",
              "  <th>Time:</th>               <td>21:33:22</td>     <th>                     </th>    <td> </td>  \n",
              "</tr>\n",
              "<tr>\n",
              "  <th>No. Iterations:</th>        <td>29</td>        <th>                     </th>    <td> </td>  \n",
              "</tr>\n",
              "</table>\n",
              "<table class=\"simpletable\">\n",
              "<tr>\n",
              "      <td></td>        <th>coef</th>     <th>std err</th>      <th>z</th>      <th>P>|z|</th>  <th>[0.025</th>    <th>0.975]</th>  \n",
              "</tr>\n",
              "<tr>\n",
              "  <th>const</th>    <td>    0.0006</td> <td>    0.000</td> <td>    1.548</td> <td> 0.122</td> <td>   -0.000</td> <td>    0.001</td>\n",
              "</tr>\n",
              "<tr>\n",
              "  <th>Return_y</th> <td>    0.4437</td> <td>    0.014</td> <td>   32.437</td> <td> 0.000</td> <td>    0.417</td> <td>    0.470</td>\n",
              "</tr>\n",
              "</table><br/><br/>If the model instance has been used for another fit with different fit parameters, then the fit options might not be the correct ones anymore ."
            ],
            "text/latex": "\\begin{center}\n\\begin{tabular}{lclc}\n\\toprule\n\\textbf{Dep. Variable:}  &    Return\\_x     & \\textbf{  No. Observations:  } &     1339    \\\\\n\\textbf{Model:}          &       RLM        & \\textbf{  Df Residuals:      } &     1337    \\\\\n\\textbf{Method:}         &       IRLS       & \\textbf{  Df Model:          } &        1    \\\\\n\\textbf{Norm:}           &  TukeyBiweight   & \\textbf{                     } &             \\\\\n\\textbf{Scale Est.:}     &       mad        & \\textbf{                     } &             \\\\\n\\textbf{Cov Type:}       &        H1        & \\textbf{                     } &             \\\\\n\\textbf{Date:}           & Tue, 30 Jul 2024 & \\textbf{                     } &             \\\\\n\\textbf{Time:}           &     21:33:22     & \\textbf{                     } &             \\\\\n\\textbf{No. Iterations:} &        29        & \\textbf{                     } &             \\\\\n\\bottomrule\n\\end{tabular}\n\\begin{tabular}{lcccccc}\n                   & \\textbf{coef} & \\textbf{std err} & \\textbf{z} & \\textbf{P$> |$z$|$} & \\textbf{[0.025} & \\textbf{0.975]}  \\\\\n\\midrule\n\\textbf{const}     &       0.0006  &        0.000     &     1.548  &         0.122        &       -0.000    &        0.001     \\\\\n\\textbf{Return\\_y} &       0.4437  &        0.014     &    32.437  &         0.000        &        0.417    &        0.470     \\\\\n\\bottomrule\n\\end{tabular}\n%\\caption{Robust linear Model Regression Results}\n\\end{center}\n\nIf the model instance has been used for another fit with different fit parameters, then the fit options might not be the correct ones anymore ."
          },
          "metadata": {},
          "execution_count": 41
        }
      ],
      "source": [
        "# Bisquare Method model\n",
        "rr_bisquare = sm.RLM(\n",
        "    df1[\"Return_x\"],\n",
        "    sm.add_constant(df1[\"Return_y\"]),\n",
        "    M=sm.robust.norms.TukeyBiweight(),\n",
        ")\n",
        "rr_bisquare_results = rr_bisquare.fit()\n",
        "rr_bisquare_results.summary()"
      ]
    },
    {
      "cell_type": "raw",
      "id": "a769dbf8",
      "metadata": {
        "id": "a769dbf8"
      },
      "source": [
        "## Let's compare the coefficients of Meta Return_y from the three methods.\n",
        "## We can see that OLS, WLS, Huber and bisquare method have coefficients for ## Return_y\n",
        "## (OLS:0.4071, WLS: 0.3906; Robust-Huber:0.4342,Bisquare: 0.4437).\n",
        "## both WLS and bisquare method give different weights to all data points\n",
        "## whereas Huber gives different weights only after a residual is big enough.\n",
        "\n",
        "## We can also show different regression lines in a scatter plot to understand ## how outliers influence the regression result."
      ]
    },
    {
      "cell_type": "markdown",
      "id": "df05b6ab",
      "metadata": {
        "id": "df05b6ab"
      },
      "source": [
        "# Scatter Plot of Apple Daily Return and Meta Daily Return with Different Regression Lines"
      ]
    },
    {
      "cell_type": "code",
      "execution_count": 44,
      "id": "a5f55ea1",
      "metadata": {
        "colab": {
          "base_uri": "https://localhost:8080/",
          "height": 410
        },
        "id": "a5f55ea1",
        "outputId": "4f83ac51-c8f9-49be-e0c8-71392b4155cd"
      },
      "outputs": [
        {
          "output_type": "display_data",
          "data": {
            "text/plain": [
              "<Figure size 800x400 with 1 Axes>"
            ],
            "image/png": "[encoded data removed]"
          },
          "metadata": {}
        }
      ],
      "source": [
        "# Scatter Plot of U.S. Dollar Index Daily Return and 10-Year Treasury Bond Yield Daily Return with Different Regression Lines\n",
        "\n",
        "# scatter-plot data\n",
        "fig, ax = plt.subplots(figsize=(8, 4))\n",
        "scatt = df1.plot(x=\"Return_x\", y=\"Return_y\", kind=\"scatter\",ax=ax)\n",
        "scatt.set(xlabel=\"Apple Return\", ylabel=\"Meta Return\")\n",
        "\n",
        "# plot regression lines\n",
        "abline_plot(model_results=model_1, ax=scatt, color=\"blue\", label=\"OLS\")\n",
        "abline_plot(model_results=model_WLS, ax=scatt, color=\"orange\", label=\"WLS\")\n",
        "abline_plot(model_results=rr_huber_results, ax=scatt, color=\"green\", label=\"Huber\")\n",
        "abline_plot(model_results=rr_bisquare_results, ax=scatt, color=\"red\", label=\"Bisquare\")\n",
        "plt.title(\"Scatter plot of Apple Daily Return and Meta Daily Return with Regression lines\")\n",
        "plt.legend(loc=\"lower right\")\n",
        "plt.show()"
      ]
    },
    {
      "cell_type": "raw",
      "id": "72958b1a",
      "metadata": {
        "id": "72958b1a"
      },
      "source": [
        "## The Regression lines are almost overlapping, sowe need to remove some data ## points at the centre to clearly\n",
        "## see the effect of outliers"
      ]
    },
    {
      "cell_type": "code",
      "execution_count": 45,
      "id": "fa928b66",
      "metadata": {
        "colab": {
          "base_uri": "https://localhost:8080/",
          "height": 564
        },
        "id": "fa928b66",
        "outputId": "cb68e75c-ea8f-42a1-e213-777e7409ad49"
      },
      "outputs": [
        {
          "output_type": "display_data",
          "data": {
            "text/plain": [
              "<Figure size 800x600 with 2 Axes>"
            ],
            "image/png": "[encoded data removed]"
          },
          "metadata": {}
        }
      ],
      "source": [
        "# QQ Plot for Normal Distribution\n",
        "\n",
        "# Normal QQ plots\n",
        "plt.figure(figsize=(8, 6))\n",
        "ax1 = plt.subplot(121)\n",
        "stats.probplot(df1['Return_x'], dist=\"norm\", plot=pylab)\n",
        "plt.title(\"Apple Daily Return Normal Q-Q Plot\")\n",
        "\n",
        "ax2 = plt.subplot(122)\n",
        "stats.probplot(df1['Return_x'], dist=\"norm\", plot=pylab)\n",
        "plt.title(\"Meta Daily Return Normal Q-Q Plot\")\n",
        "pylab.show()"
      ]
    },
    {
      "cell_type": "raw",
      "id": "b80ad2b2",
      "metadata": {
        "id": "b80ad2b2"
      },
      "source": [
        "## We can see the daily returns for both assets are not normally distributed.\n",
        "## They have a similar curvy look in the plots. These curves indicate they have ## more extreme values\n",
        "## than a normal distribution. Hence, we need to find other distributions to ## ## describe these asset returns\n",
        "## or we need to transform these asset returns."
      ]
    },
    {
      "cell_type": "code",
      "execution_count": 46,
      "id": "b9ee1873",
      "metadata": {
        "colab": {
          "base_uri": "https://localhost:8080/"
        },
        "id": "b9ee1873",
        "outputId": "dcba561e-7571-48cd-abd6-9754b960546d"
      },
      "outputs": [
        {
          "output_type": "stream",
          "name": "stdout",
          "text": [
            "\n",
            " Shapiro Wilk Tests: \n",
            "Apple\n",
            "Shapiro W: 0.9412319295665574 \n",
            "Shapiro pvalue 1.2644167638607447e-22\n",
            "\n",
            "Meta\n",
            "Shapiro W: 0.9412319295665574 \n",
            "Shapiro pvalue 1.2644167638607447e-22\n"
          ]
        }
      ],
      "source": [
        "# Shapiro Wilk Tests\n",
        "print (\"\\n Shapiro Wilk Tests: \")\n",
        "shapiro_test_aapl = stats.shapiro(df1['Return_x'])\n",
        "print(\"Apple\")\n",
        "print(\n",
        "    \"Shapiro W: {0} \\nShapiro pvalue {1}\".format(\n",
        "        shapiro_test_aapl.statistic, shapiro_test_aapl.pvalue\n",
        "    )\n",
        ")\n",
        "\n",
        "shapiro_test_meta = stats.shapiro(df1['Return_x'])\n",
        "print(\"\\nMeta\")\n",
        "print(\n",
        "    \"Shapiro W: {0} \\nShapiro pvalue {1}\".format(\n",
        "        shapiro_test_meta.statistic, shapiro_test_meta.pvalue\n",
        "    )\n",
        ")"
      ]
    },
    {
      "cell_type": "raw",
      "id": "29ddae30",
      "metadata": {
        "id": "29ddae30"
      },
      "source": [
        "## The W is 0.94 and the p-value of both assets/stocks is less than 0.05.\n",
        "## The p-value is less than 0.05 so we can reject that this series of\n",
        "## Apple and Meta Returns is normally distributed.\n",
        "## Hence, they are not normally distributed."
      ]
    },
    {
      "cell_type": "code",
      "execution_count": null,
      "id": "124e135a",
      "metadata": {
        "id": "124e135a"
      },
      "outputs": [],
      "source": []
    },
    {
      "cell_type": "markdown",
      "id": "24c89096",
      "metadata": {
        "id": "24c89096"
      },
      "source": [
        "# Sensitivity to Outliers- Part 2\n",
        "## Removing some Data points to make it less dense at the centre\n",
        "## and try to make it one ended to see the better effect of outliers on\n",
        "## the regression clearly\n",
        "\n",
        "## We will use Modified Data"
      ]
    },
    {
      "cell_type": "code",
      "execution_count": 47,
      "id": "87d91e37",
      "metadata": {
        "id": "87d91e37"
      },
      "outputs": [],
      "source": [
        "#Taking values with higher than z-score\n",
        "#Apple Return\n",
        "z2 = np.abs(stats.zscore(df1['Return_x']))\n",
        "# Meta Return\n",
        "z1 = np.abs(stats.zscore(df1['Return_y']))\n",
        "\n",
        "threshold1=-1.5\n",
        "threshold2=-0.5\n",
        "df2=df1[z1>threshold1]\n",
        "df2=df2[z2>threshold2]"
      ]
    },
    {
      "cell_type": "code",
      "execution_count": 55,
      "id": "ce825ec6",
      "metadata": {
        "id": "ce825ec6"
      },
      "outputs": [],
      "source": [
        "# Removing some data points of low Apple Returns betwwen 0.02% and -0,02% and keeping 10% of the selected\n",
        "\n",
        "np.random.seed(11111)  # Random seed\n",
        "nrow = (df2[\"Return_x\"]<0.02) & (df2[\"Return_x\"]>-0.02)\n",
        "#nrow = (df2[\"Return_x\"]>-0.01)\n",
        "len1=nrow.shape[0]\n",
        "len1\n",
        "len2=df2.shape[0]\n",
        "len2\n",
        "train_sequence = sorted(np.random.choice(len1, int(len1 * 0.9), replace=False))\n",
        "train_sequence2 = sorted(set(list(range(0, len2))) - set(train_sequence))\n",
        "\n"
      ]
    },
    {
      "cell_type": "code",
      "execution_count": 56,
      "id": "7e9b2adf",
      "metadata": {
        "colab": {
          "base_uri": "https://localhost:8080/",
          "height": 238
        },
        "id": "7e9b2adf",
        "outputId": "8f1eb79e-ecba-46cf-d2cb-91bf8dedd81a"
      },
      "outputs": [
        {
          "output_type": "execute_result",
          "data": {
            "text/plain": [
              "            Return_x  Return_y\n",
              "Date                          \n",
              "2019-01-25  0.033137  0.021806\n",
              "2019-01-31  0.007201  0.108164\n",
              "2019-02-13 -0.004155 -0.005877\n",
              "2019-02-26  0.000574 -0.002976\n",
              "2019-03-25 -0.012091  0.011866"
            ],
            "text/html": [
              "\n",
              "  <div id=\"df-8d0341b0-826a-42c3-beaa-f84498c3f6e9\" class=\"colab-df-container\">\n",
              "    <div>\n",
              "<style scoped>\n",
              "    .dataframe tbody tr th:only-of-type {\n",
              "        vertical-align: middle;\n",
              "    }\n",
              "\n",
              "    .dataframe tbody tr th {\n",
              "        vertical-align: top;\n",
              "    }\n",
              "\n",
              "    .dataframe thead th {\n",
              "        text-align: right;\n",
              "    }\n",
              "</style>\n",
              "<table border=\"1\" class=\"dataframe\">\n",
              "  <thead>\n",
              "    <tr style=\"text-align: right;\">\n",
              "      <th></th>\n",
              "      <th>Return_x</th>\n",
              "      <th>Return_y</th>\n",
              "    </tr>\n",
              "    <tr>\n",
              "      <th>Date</th>\n",
              "      <th></th>\n",
              "      <th></th>\n",
              "    </tr>\n",
              "  </thead>\n",
              "  <tbody>\n",
              "    <tr>\n",
              "      <th>2019-01-25</th>\n",
              "      <td>0.033137</td>\n",
              "      <td>0.021806</td>\n",
              "    </tr>\n",
              "    <tr>\n",
              "      <th>2019-01-31</th>\n",
              "      <td>0.007201</td>\n",
              "      <td>0.108164</td>\n",
              "    </tr>\n",
              "    <tr>\n",
              "      <th>2019-02-13</th>\n",
              "      <td>-0.004155</td>\n",
              "      <td>-0.005877</td>\n",
              "    </tr>\n",
              "    <tr>\n",
              "      <th>2019-02-26</th>\n",
              "      <td>0.000574</td>\n",
              "      <td>-0.002976</td>\n",
              "    </tr>\n",
              "    <tr>\n",
              "      <th>2019-03-25</th>\n",
              "      <td>-0.012091</td>\n",
              "      <td>0.011866</td>\n",
              "    </tr>\n",
              "  </tbody>\n",
              "</table>\n",
              "</div>\n",
              "    <div class=\"colab-df-buttons\">\n",
              "\n",
              "  <div class=\"colab-df-container\">\n",
              "    <button class=\"colab-df-convert\" onclick=\"convertToInteractive('df-8d0341b0-826a-42c3-beaa-f84498c3f6e9')\"\n",
              "            title=\"Convert this dataframe to an interactive table.\"\n",
              "            style=\"display:none;\">\n",
              "\n",
              "  <svg xmlns=\"http://www.w3.org/2000/svg\" height=\"24px\" viewBox=\"0 -960 960 960\">\n",
              "    <path d=\"M120-120v-720h720v720H120Zm60-500h600v-160H180v160Zm220 220h160v-160H400v160Zm0 220h160v-160H400v160ZM180-400h160v-160H180v160Zm440 0h160v-160H620v160ZM180-180h160v-160H180v160Zm440 0h160v-160H620v160Z\"/>\n",
              "  </svg>\n",
              "    </button>\n",
              "\n",
              "  <style>\n",
              "    .colab-df-container {\n",
              "      display:flex;\n",
              "      gap: 12px;\n",
              "    }\n",
              "\n",
              "    .colab-df-convert {\n",
              "      background-color: #E8F0FE;\n",
              "      border: none;\n",
              "      border-radius: 50%;\n",
              "      cursor: pointer;\n",
              "      display: none;\n",
              "      fill: #1967D2;\n",
              "      height: 32px;\n",
              "      padding: 0 0 0 0;\n",
              "      width: 32px;\n",
              "    }\n",
              "\n",
              "    .colab-df-convert:hover {\n",
              "      background-color: #E2EBFA;\n",
              "      box-shadow: 0px 1px 2px rgba(60, 64, 67, 0.3), 0px 1px 3px 1px rgba(60, 64, 67, 0.15);\n",
              "      fill: #174EA6;\n",
              "    }\n",
              "\n",
              "    .colab-df-buttons div {\n",
              "      margin-bottom: 4px;\n",
              "    }\n",
              "\n",
              "    [theme=dark] .colab-df-convert {\n",
              "      background-color: #3B4455;\n",
              "      fill: #D2E3FC;\n",
              "    }\n",
              "\n",
              "    [theme=dark] .colab-df-convert:hover {\n",
              "      background-color: #434B5C;\n",
              "      box-shadow: 0px 1px 3px 1px rgba(0, 0, 0, 0.15);\n",
              "      filter: drop-shadow(0px 1px 2px rgba(0, 0, 0, 0.3));\n",
              "      fill: #FFFFFF;\n",
              "    }\n",
              "  </style>\n",
              "\n",
              "    <script>\n",
              "      const buttonEl =\n",
              "        document.querySelector('#df-8d0341b0-826a-42c3-beaa-f84498c3f6e9 button.colab-df-convert');\n",
              "      buttonEl.style.display =\n",
              "        google.colab.kernel.accessAllowed ? 'block' : 'none';\n",
              "\n",
              "      async function convertToInteractive(key) {\n",
              "        const element = document.querySelector('#df-8d0341b0-826a-42c3-beaa-f84498c3f6e9');\n",
              "        const dataTable =\n",
              "          await google.colab.kernel.invokeFunction('convertToInteractive',\n",
              "                                                    [key], {});\n",
              "        if (!dataTable) return;\n",
              "\n",
              "        const docLinkHtml = 'Like what you see? Visit the ' +\n",
              "          '<a target=\"_blank\" href=https://colab.research.google.com/notebooks/data_table.ipynb>data table notebook</a>'\n",
              "          + ' to learn more about interactive tables.';\n",
              "        element.innerHTML = '';\n",
              "        dataTable['output_type'] = 'display_data';\n",
              "        await google.colab.output.renderOutput(dataTable, element);\n",
              "        const docLink = document.createElement('div');\n",
              "        docLink.innerHTML = docLinkHtml;\n",
              "        element.appendChild(docLink);\n",
              "      }\n",
              "    </script>\n",
              "  </div>\n",
              "\n",
              "\n",
              "<div id=\"df-c1e6aa3b-10cb-4f43-bd53-a9a00e4c1082\">\n",
              "  <button class=\"colab-df-quickchart\" onclick=\"quickchart('df-c1e6aa3b-10cb-4f43-bd53-a9a00e4c1082')\"\n",
              "            title=\"Suggest charts\"\n",
              "            style=\"display:none;\">\n",
              "\n",
              "<svg xmlns=\"http://www.w3.org/2000/svg\" height=\"24px\"viewBox=\"0 0 24 24\"\n",
              "     width=\"24px\">\n",
              "    <g>\n",
              "        <path d=\"M19 3H5c-1.1 0-2 .9-2 2v14c0 1.1.9 2 2 2h14c1.1 0 2-.9 2-2V5c0-1.1-.9-2-2-2zM9 17H7v-7h2v7zm4 0h-2V7h2v10zm4 0h-2v-4h2v4z\"/>\n",
              "    </g>\n",
              "</svg>\n",
              "  </button>\n",
              "\n",
              "<style>\n",
              "  .colab-df-quickchart {\n",
              "      --bg-color: #E8F0FE;\n",
              "      --fill-color: #1967D2;\n",
              "      --hover-bg-color: #E2EBFA;\n",
              "      --hover-fill-color: #174EA6;\n",
              "      --disabled-fill-color: #AAA;\n",
              "      --disabled-bg-color: #DDD;\n",
              "  }\n",
              "\n",
              "  [theme=dark] .colab-df-quickchart {\n",
              "      --bg-color: #3B4455;\n",
              "      --fill-color: #D2E3FC;\n",
              "      --hover-bg-color: #434B5C;\n",
              "      --hover-fill-color: #FFFFFF;\n",
              "      --disabled-bg-color: #3B4455;\n",
              "      --disabled-fill-color: #666;\n",
              "  }\n",
              "\n",
              "  .colab-df-quickchart {\n",
              "    background-color: var(--bg-color);\n",
              "    border: none;\n",
              "    border-radius: 50%;\n",
              "    cursor: pointer;\n",
              "    display: none;\n",
              "    fill: var(--fill-color);\n",
              "    height: 32px;\n",
              "    padding: 0;\n",
              "    width: 32px;\n",
              "  }\n",
              "\n",
              "  .colab-df-quickchart:hover {\n",
              "    background-color: var(--hover-bg-color);\n",
              "    box-shadow: 0 1px 2px rgba(60, 64, 67, 0.3), 0 1px 3px 1px rgba(60, 64, 67, 0.15);\n",
              "    fill: var(--button-hover-fill-color);\n",
              "  }\n",
              "\n",
              "  .colab-df-quickchart-complete:disabled,\n",
              "  .colab-df-quickchart-complete:disabled:hover {\n",
              "    background-color: var(--disabled-bg-color);\n",
              "    fill: var(--disabled-fill-color);\n",
              "    box-shadow: none;\n",
              "  }\n",
              "\n",
              "  .colab-df-spinner {\n",
              "    border: 2px solid var(--fill-color);\n",
              "    border-color: transparent;\n",
              "    border-bottom-color: var(--fill-color);\n",
              "    animation:\n",
              "      spin 1s steps(1) infinite;\n",
              "  }\n",
              "\n",
              "  @keyframes spin {\n",
              "    0% {\n",
              "      border-color: transparent;\n",
              "      border-bottom-color: var(--fill-color);\n",
              "      border-left-color: var(--fill-color);\n",
              "    }\n",
              "    20% {\n",
              "      border-color: transparent;\n",
              "      border-left-color: var(--fill-color);\n",
              "      border-top-color: var(--fill-color);\n",
              "    }\n",
              "    30% {\n",
              "      border-color: transparent;\n",
              "      border-left-color: var(--fill-color);\n",
              "      border-top-color: var(--fill-color);\n",
              "      border-right-color: var(--fill-color);\n",
              "    }\n",
              "    40% {\n",
              "      border-color: transparent;\n",
              "      border-right-color: var(--fill-color);\n",
              "      border-top-color: var(--fill-color);\n",
              "    }\n",
              "    60% {\n",
              "      border-color: transparent;\n",
              "      border-right-color: var(--fill-color);\n",
              "    }\n",
              "    80% {\n",
              "      border-color: transparent;\n",
              "      border-right-color: var(--fill-color);\n",
              "      border-bottom-color: var(--fill-color);\n",
              "    }\n",
              "    90% {\n",
              "      border-color: transparent;\n",
              "      border-bottom-color: var(--fill-color);\n",
              "    }\n",
              "  }\n",
              "</style>\n",
              "\n",
              "  <script>\n",
              "    async function quickchart(key) {\n",
              "      const quickchartButtonEl =\n",
              "        document.querySelector('#' + key + ' button');\n",
              "      quickchartButtonEl.disabled = true;  // To prevent multiple clicks.\n",
              "      quickchartButtonEl.classList.add('colab-df-spinner');\n",
              "      try {\n",
              "        const charts = await google.colab.kernel.invokeFunction(\n",
              "            'suggestCharts', [key], {});\n",
              "      } catch (error) {\n",
              "        console.error('Error during call to suggestCharts:', error);\n",
              "      }\n",
              "      quickchartButtonEl.classList.remove('colab-df-spinner');\n",
              "      quickchartButtonEl.classList.add('colab-df-quickchart-complete');\n",
              "    }\n",
              "    (() => {\n",
              "      let quickchartButtonEl =\n",
              "        document.querySelector('#df-c1e6aa3b-10cb-4f43-bd53-a9a00e4c1082 button');\n",
              "      quickchartButtonEl.style.display =\n",
              "        google.colab.kernel.accessAllowed ? 'block' : 'none';\n",
              "    })();\n",
              "  </script>\n",
              "</div>\n",
              "\n",
              "    </div>\n",
              "  </div>\n"
            ],
            "application/vnd.google.colaboratory.intrinsic+json": {
              "type": "dataframe",
              "variable_name": "df3",
              "summary": "{\n  \"name\": \"df3\",\n  \"rows\": 134,\n  \"fields\": [\n    {\n      \"column\": \"Date\",\n      \"properties\": {\n        \"dtype\": \"date\",\n        \"min\": \"2019-01-25 00:00:00\",\n        \"max\": \"2024-03-22 00:00:00\",\n        \"num_unique_values\": 134,\n        \"samples\": [\n          \"2023-10-13 00:00:00\",\n          \"2021-06-10 00:00:00\",\n          \"2022-12-02 00:00:00\"\n        ],\n        \"semantic_type\": \"\",\n        \"description\": \"\"\n      }\n    },\n    {\n      \"column\": \"Return_x\",\n      \"properties\": {\n        \"dtype\": \"number\",\n        \"std\": 0.01757892700427327,\n        \"min\": -0.05571600952937428,\n        \"max\": 0.10468874931627048,\n        \"num_unique_values\": 134,\n        \"samples\": [\n          -0.010292670041494145,\n          -0.008023234088594178,\n          -0.0033713946895840285\n        ],\n        \"semantic_type\": \"\",\n        \"description\": \"\"\n      }\n    },\n    {\n      \"column\": \"Return_y\",\n      \"properties\": {\n        \"dtype\": \"number\",\n        \"std\": 0.030271298301541277,\n        \"min\": -0.06772306750364943,\n        \"max\": 0.2031764369243345,\n        \"num_unique_values\": 134,\n        \"samples\": [\n          -0.02921391222053127,\n          0.006691921062573547,\n          0.02532382696948532\n        ],\n        \"semantic_type\": \"\",\n        \"description\": \"\"\n      }\n    }\n  ]\n}"
            }
          },
          "metadata": {},
          "execution_count": 56
        }
      ],
      "source": [
        "df3=df2.iloc[train_sequence2,:]\n",
        "#df3\n",
        "id_vars=[\"Return_x\",\"Return_y\"]\n",
        "\n",
        "df3=df3.loc[:,id_vars]\n",
        "df3.head()"
      ]
    },
    {
      "cell_type": "markdown",
      "id": "535e9996",
      "metadata": {
        "id": "535e9996"
      },
      "source": [
        "# Modified Dataset"
      ]
    },
    {
      "cell_type": "code",
      "execution_count": 57,
      "id": "afb4259d",
      "metadata": {
        "colab": {
          "base_uri": "https://localhost:8080/",
          "height": 391
        },
        "id": "afb4259d",
        "outputId": "2afa834c-2dde-4221-ad6a-a5e533b55b0e"
      },
      "outputs": [
        {
          "output_type": "display_data",
          "data": {
            "text/plain": [
              "<Figure size 600x400 with 1 Axes>"
            ],
            "image/png": "[encoded data removed]"
          },
          "metadata": {}
        }
      ],
      "source": [
        "plt.figure(figsize=(6, 4))\n",
        "df3.boxplot( column =['Return_x','Return_y'], grid = False)\n",
        "plt.title(\"BoxPlot of Apple and Meta Returns from modified dataset\");"
      ]
    },
    {
      "cell_type": "raw",
      "id": "4ef46716",
      "metadata": {
        "id": "4ef46716"
      },
      "source": []
    },
    {
      "cell_type": "code",
      "execution_count": 54,
      "id": "cb4962bb",
      "metadata": {
        "colab": {
          "base_uri": "https://localhost:8080/",
          "height": 410
        },
        "id": "cb4962bb",
        "outputId": "7b359bce-c1a0-4b79-96ca-a4363bd83649"
      },
      "outputs": [
        {
          "output_type": "display_data",
          "data": {
            "text/plain": [
              "<Figure size 600x400 with 1 Axes>"
            ],
            "image/png": "[encoded data removed]"
          },
          "metadata": {}
        }
      ],
      "source": [
        "# Create scatter plot\n",
        "fig, ax = plt.subplots(figsize=(6, 4))\n",
        "scatt = df3.plot.scatter(x=\"Return_x\", y=\"Return_y\",ax=ax)\n",
        "scatt.set(xlabel=\"Apple Daily Returns\", ylabel=\"Meta Daily Returns\", title=\"Modified Apple vs Meta scatter Plot\")\n",
        "\n",
        "plt.show()"
      ]
    },
    {
      "cell_type": "markdown",
      "id": "c6df73fb",
      "metadata": {
        "id": "c6df73fb"
      },
      "source": [
        "## Model1: OLS Regression Result - Modified Dataset"
      ]
    },
    {
      "cell_type": "code",
      "execution_count": 58,
      "id": "887b3565",
      "metadata": {
        "colab": {
          "base_uri": "https://localhost:8080/",
          "height": 452
        },
        "id": "887b3565",
        "outputId": "564d0b6e-3e31-4414-c655-4ca783071feb"
      },
      "outputs": [
        {
          "output_type": "execute_result",
          "data": {
            "text/plain": [
              "<class 'statsmodels.iolib.summary.Summary'>\n",
              "\"\"\"\n",
              "                            OLS Regression Results                            \n",
              "==============================================================================\n",
              "Dep. Variable:               Return_x   R-squared:                       0.251\n",
              "Model:                            OLS   Adj. R-squared:                  0.245\n",
              "Method:                 Least Squares   F-statistic:                     44.19\n",
              "Date:                Tue, 30 Jul 2024   Prob (F-statistic):           7.16e-10\n",
              "Time:                        21:47:43   Log-Likelihood:                 371.21\n",
              "No. Observations:                 134   AIC:                            -738.4\n",
              "Df Residuals:                     132   BIC:                            -732.6\n",
              "Df Model:                           1                                         \n",
              "Covariance Type:            nonrobust                                         \n",
              "==============================================================================\n",
              "                 coef    std err          t      P>|t|      [0.025      0.975]\n",
              "------------------------------------------------------------------------------\n",
              "Intercept      0.0003      0.001      0.205      0.838      -0.002       0.003\n",
              "Return_y       0.2908      0.044      6.648      0.000       0.204       0.377\n",
              "==============================================================================\n",
              "Omnibus:                       31.426   Durbin-Watson:                   1.979\n",
              "Prob(Omnibus):                  0.000   Jarque-Bera (JB):              274.902\n",
              "Skew:                           0.341   Prob(JB):                     2.02e-60\n",
              "Kurtosis:                       9.984   Cond. No.                         33.2\n",
              "==============================================================================\n",
              "\n",
              "Notes:\n",
              "[1] Standard Errors assume that the covariance matrix of the errors is correctly specified.\n",
              "\"\"\""
            ],
            "text/html": [
              "<table class=\"simpletable\">\n",
              "<caption>OLS Regression Results</caption>\n",
              "<tr>\n",
              "  <th>Dep. Variable:</th>        <td>Return_x</td>     <th>  R-squared:         </th> <td>   0.251</td>\n",
              "</tr>\n",
              "<tr>\n",
              "  <th>Model:</th>                   <td>OLS</td>       <th>  Adj. R-squared:    </th> <td>   0.245</td>\n",
              "</tr>\n",
              "<tr>\n",
              "  <th>Method:</th>             <td>Least Squares</td>  <th>  F-statistic:       </th> <td>   44.19</td>\n",
              "</tr>\n",
              "<tr>\n",
              "  <th>Date:</th>             <td>Tue, 30 Jul 2024</td> <th>  Prob (F-statistic):</th> <td>7.16e-10</td>\n",
              "</tr>\n",
              "<tr>\n",
              "  <th>Time:</th>                 <td>21:47:43</td>     <th>  Log-Likelihood:    </th> <td>  371.21</td>\n",
              "</tr>\n",
              "<tr>\n",
              "  <th>No. Observations:</th>      <td>   134</td>      <th>  AIC:               </th> <td>  -738.4</td>\n",
              "</tr>\n",
              "<tr>\n",
              "  <th>Df Residuals:</th>          <td>   132</td>      <th>  BIC:               </th> <td>  -732.6</td>\n",
              "</tr>\n",
              "<tr>\n",
              "  <th>Df Model:</th>              <td>     1</td>      <th>                     </th>     <td> </td>   \n",
              "</tr>\n",
              "<tr>\n",
              "  <th>Covariance Type:</th>      <td>nonrobust</td>    <th>                     </th>     <td> </td>   \n",
              "</tr>\n",
              "</table>\n",
              "<table class=\"simpletable\">\n",
              "<tr>\n",
              "      <td></td>         <th>coef</th>     <th>std err</th>      <th>t</th>      <th>P>|t|</th>  <th>[0.025</th>    <th>0.975]</th>  \n",
              "</tr>\n",
              "<tr>\n",
              "  <th>Intercept</th> <td>    0.0003</td> <td>    0.001</td> <td>    0.205</td> <td> 0.838</td> <td>   -0.002</td> <td>    0.003</td>\n",
              "</tr>\n",
              "<tr>\n",
              "  <th>Return_y</th>  <td>    0.2908</td> <td>    0.044</td> <td>    6.648</td> <td> 0.000</td> <td>    0.204</td> <td>    0.377</td>\n",
              "</tr>\n",
              "</table>\n",
              "<table class=\"simpletable\">\n",
              "<tr>\n",
              "  <th>Omnibus:</th>       <td>31.426</td> <th>  Durbin-Watson:     </th> <td>   1.979</td>\n",
              "</tr>\n",
              "<tr>\n",
              "  <th>Prob(Omnibus):</th> <td> 0.000</td> <th>  Jarque-Bera (JB):  </th> <td> 274.902</td>\n",
              "</tr>\n",
              "<tr>\n",
              "  <th>Skew:</th>          <td> 0.341</td> <th>  Prob(JB):          </th> <td>2.02e-60</td>\n",
              "</tr>\n",
              "<tr>\n",
              "  <th>Kurtosis:</th>      <td> 9.984</td> <th>  Cond. No.          </th> <td>    33.2</td>\n",
              "</tr>\n",
              "</table><br/><br/>Notes:<br/>[1] Standard Errors assume that the covariance matrix of the errors is correctly specified."
            ],
            "text/latex": "\\begin{center}\n\\begin{tabular}{lclc}\n\\toprule\n\\textbf{Dep. Variable:}    &    Return\\_x     & \\textbf{  R-squared:         } &     0.251   \\\\\n\\textbf{Model:}            &       OLS        & \\textbf{  Adj. R-squared:    } &     0.245   \\\\\n\\textbf{Method:}           &  Least Squares   & \\textbf{  F-statistic:       } &     44.19   \\\\\n\\textbf{Date:}             & Tue, 30 Jul 2024 & \\textbf{  Prob (F-statistic):} &  7.16e-10   \\\\\n\\textbf{Time:}             &     21:47:43     & \\textbf{  Log-Likelihood:    } &    371.21   \\\\\n\\textbf{No. Observations:} &         134      & \\textbf{  AIC:               } &    -738.4   \\\\\n\\textbf{Df Residuals:}     &         132      & \\textbf{  BIC:               } &    -732.6   \\\\\n\\textbf{Df Model:}         &           1      & \\textbf{                     } &             \\\\\n\\textbf{Covariance Type:}  &    nonrobust     & \\textbf{                     } &             \\\\\n\\bottomrule\n\\end{tabular}\n\\begin{tabular}{lcccccc}\n                   & \\textbf{coef} & \\textbf{std err} & \\textbf{t} & \\textbf{P$> |$t$|$} & \\textbf{[0.025} & \\textbf{0.975]}  \\\\\n\\midrule\n\\textbf{Intercept} &       0.0003  &        0.001     &     0.205  &         0.838        &       -0.002    &        0.003     \\\\\n\\textbf{Return\\_y} &       0.2908  &        0.044     &     6.648  &         0.000        &        0.204    &        0.377     \\\\\n\\bottomrule\n\\end{tabular}\n\\begin{tabular}{lclc}\n\\textbf{Omnibus:}       & 31.426 & \\textbf{  Durbin-Watson:     } &    1.979  \\\\\n\\textbf{Prob(Omnibus):} &  0.000 & \\textbf{  Jarque-Bera (JB):  } &  274.902  \\\\\n\\textbf{Skew:}          &  0.341 & \\textbf{  Prob(JB):          } & 2.02e-60  \\\\\n\\textbf{Kurtosis:}      &  9.984 & \\textbf{  Cond. No.          } &     33.2  \\\\\n\\bottomrule\n\\end{tabular}\n%\\caption{OLS Regression Results}\n\\end{center}\n\nNotes: \\newline\n [1] Standard Errors assume that the covariance matrix of the errors is correctly specified."
          },
          "metadata": {},
          "execution_count": 58
        }
      ],
      "source": [
        "# OLS model\n",
        "model_2 = smf.ols(\"Return_x ~ Return_y\", data=df3).fit()\n",
        "model_2.summary()"
      ]
    },
    {
      "cell_type": "code",
      "execution_count": 59,
      "id": "5b29b296",
      "metadata": {
        "colab": {
          "base_uri": "https://localhost:8080/"
        },
        "id": "5b29b296",
        "outputId": "ad4f430a-7773-4526-f574-9db81da9576d"
      },
      "outputs": [
        {
          "output_type": "stream",
          "name": "stdout",
          "text": [
            "              Coef.  Std.Err.         t         P>|t|    [0.025    0.975]\n",
            "Intercept  0.000272  0.001327  0.205068  8.378350e-01 -0.002354  0.002898\n",
            "Return_y   0.290825  0.043749  6.647545  7.163061e-10  0.204285  0.377366\n"
          ]
        }
      ],
      "source": [
        "# Parameters with high precision\n",
        "print(model_2.summary2().tables[1])"
      ]
    },
    {
      "cell_type": "code",
      "execution_count": 61,
      "id": "9eff060c",
      "metadata": {
        "colab": {
          "base_uri": "https://localhost:8080/",
          "height": 410
        },
        "id": "9eff060c",
        "outputId": "b0062791-8d5e-4377-fe3d-71066a687c20"
      },
      "outputs": [
        {
          "output_type": "display_data",
          "data": {
            "text/plain": [
              "<Figure size 700x400 with 1 Axes>"
            ],
            "image/png": "[encoded data removed]"
          },
          "metadata": {}
        }
      ],
      "source": [
        "# Scatter Plot for OLS Fitted Values and OLS Residuals\n",
        "\n",
        "# Fitted values and residuals\n",
        "model_fitted_y2 = model_2.fittedvalues\n",
        "model_resid_y2 = model_2.resid\n",
        "fig, ax = plt.subplots(figsize=(7, 4))\n",
        "# Plot\n",
        "plt.scatter(x=model_fitted_y2, y=model_resid_y2)\n",
        "plt.title(\"OLS Residuals vs OLS Fitted Values\")\n",
        "plt.xlabel(\"OLS Fitted values\")\n",
        "plt.ylabel(\"OLS Residuals\")\n",
        "plt.show()\n"
      ]
    },
    {
      "cell_type": "markdown",
      "id": "2732ae36",
      "metadata": {
        "id": "2732ae36"
      },
      "source": [
        "# Model2: WLS Result -Modified Dataset"
      ]
    },
    {
      "cell_type": "code",
      "execution_count": 62,
      "id": "39b0cde6",
      "metadata": {
        "colab": {
          "base_uri": "https://localhost:8080/",
          "height": 452
        },
        "id": "39b0cde6",
        "outputId": "f9692c80-48f4-42d5-c609-31b2c83777b0"
      },
      "outputs": [
        {
          "output_type": "execute_result",
          "data": {
            "text/plain": [
              "<class 'statsmodels.iolib.summary.Summary'>\n",
              "\"\"\"\n",
              "                            WLS Regression Results                            \n",
              "==============================================================================\n",
              "Dep. Variable:                      y   R-squared:                       0.424\n",
              "Model:                            WLS   Adj. R-squared:                  0.420\n",
              "Method:                 Least Squares   F-statistic:                     97.30\n",
              "Date:                Tue, 30 Jul 2024   Prob (F-statistic):           1.56e-17\n",
              "Time:                        21:48:35   Log-Likelihood:                 228.35\n",
              "No. Observations:                 134   AIC:                            -452.7\n",
              "Df Residuals:                     132   BIC:                            -446.9\n",
              "Df Model:                           1                                         \n",
              "Covariance Type:            nonrobust                                         \n",
              "==============================================================================\n",
              "                 coef    std err          t      P>|t|      [0.025      0.975]\n",
              "------------------------------------------------------------------------------\n",
              "const          0.0066      0.004      1.604      0.111      -0.002       0.015\n",
              "x1             0.6438      0.065      9.864      0.000       0.515       0.773\n",
              "==============================================================================\n",
              "Omnibus:                      181.402   Durbin-Watson:                   1.959\n",
              "Prob(Omnibus):                  0.000   Jarque-Bera (JB):            22086.353\n",
              "Skew:                           4.660   Prob(JB):                         0.00\n",
              "Kurtosis:                      65.201   Cond. No.                         107.\n",
              "==============================================================================\n",
              "\n",
              "Notes:\n",
              "[1] Standard Errors assume that the covariance matrix of the errors is correctly specified.\n",
              "\"\"\""
            ],
            "text/html": [
              "<table class=\"simpletable\">\n",
              "<caption>WLS Regression Results</caption>\n",
              "<tr>\n",
              "  <th>Dep. Variable:</th>            <td>y</td>        <th>  R-squared:         </th> <td>   0.424</td>\n",
              "</tr>\n",
              "<tr>\n",
              "  <th>Model:</th>                   <td>WLS</td>       <th>  Adj. R-squared:    </th> <td>   0.420</td>\n",
              "</tr>\n",
              "<tr>\n",
              "  <th>Method:</th>             <td>Least Squares</td>  <th>  F-statistic:       </th> <td>   97.30</td>\n",
              "</tr>\n",
              "<tr>\n",
              "  <th>Date:</th>             <td>Tue, 30 Jul 2024</td> <th>  Prob (F-statistic):</th> <td>1.56e-17</td>\n",
              "</tr>\n",
              "<tr>\n",
              "  <th>Time:</th>                 <td>21:48:35</td>     <th>  Log-Likelihood:    </th> <td>  228.35</td>\n",
              "</tr>\n",
              "<tr>\n",
              "  <th>No. Observations:</th>      <td>   134</td>      <th>  AIC:               </th> <td>  -452.7</td>\n",
              "</tr>\n",
              "<tr>\n",
              "  <th>Df Residuals:</th>          <td>   132</td>      <th>  BIC:               </th> <td>  -446.9</td>\n",
              "</tr>\n",
              "<tr>\n",
              "  <th>Df Model:</th>              <td>     1</td>      <th>                     </th>     <td> </td>   \n",
              "</tr>\n",
              "<tr>\n",
              "  <th>Covariance Type:</th>      <td>nonrobust</td>    <th>                     </th>     <td> </td>   \n",
              "</tr>\n",
              "</table>\n",
              "<table class=\"simpletable\">\n",
              "<tr>\n",
              "    <td></td>       <th>coef</th>     <th>std err</th>      <th>t</th>      <th>P>|t|</th>  <th>[0.025</th>    <th>0.975]</th>  \n",
              "</tr>\n",
              "<tr>\n",
              "  <th>const</th> <td>    0.0066</td> <td>    0.004</td> <td>    1.604</td> <td> 0.111</td> <td>   -0.002</td> <td>    0.015</td>\n",
              "</tr>\n",
              "<tr>\n",
              "  <th>x1</th>    <td>    0.6438</td> <td>    0.065</td> <td>    9.864</td> <td> 0.000</td> <td>    0.515</td> <td>    0.773</td>\n",
              "</tr>\n",
              "</table>\n",
              "<table class=\"simpletable\">\n",
              "<tr>\n",
              "  <th>Omnibus:</th>       <td>181.402</td> <th>  Durbin-Watson:     </th> <td>   1.959</td> \n",
              "</tr>\n",
              "<tr>\n",
              "  <th>Prob(Omnibus):</th> <td> 0.000</td>  <th>  Jarque-Bera (JB):  </th> <td>22086.353</td>\n",
              "</tr>\n",
              "<tr>\n",
              "  <th>Skew:</th>          <td> 4.660</td>  <th>  Prob(JB):          </th> <td>    0.00</td> \n",
              "</tr>\n",
              "<tr>\n",
              "  <th>Kurtosis:</th>      <td>65.201</td>  <th>  Cond. No.          </th> <td>    107.</td> \n",
              "</tr>\n",
              "</table><br/><br/>Notes:<br/>[1] Standard Errors assume that the covariance matrix of the errors is correctly specified."
            ],
            "text/latex": "\\begin{center}\n\\begin{tabular}{lclc}\n\\toprule\n\\textbf{Dep. Variable:}    &        y         & \\textbf{  R-squared:         } &     0.424   \\\\\n\\textbf{Model:}            &       WLS        & \\textbf{  Adj. R-squared:    } &     0.420   \\\\\n\\textbf{Method:}           &  Least Squares   & \\textbf{  F-statistic:       } &     97.30   \\\\\n\\textbf{Date:}             & Tue, 30 Jul 2024 & \\textbf{  Prob (F-statistic):} &  1.56e-17   \\\\\n\\textbf{Time:}             &     21:48:35     & \\textbf{  Log-Likelihood:    } &    228.35   \\\\\n\\textbf{No. Observations:} &         134      & \\textbf{  AIC:               } &    -452.7   \\\\\n\\textbf{Df Residuals:}     &         132      & \\textbf{  BIC:               } &    -446.9   \\\\\n\\textbf{Df Model:}         &           1      & \\textbf{                     } &             \\\\\n\\textbf{Covariance Type:}  &    nonrobust     & \\textbf{                     } &             \\\\\n\\bottomrule\n\\end{tabular}\n\\begin{tabular}{lcccccc}\n               & \\textbf{coef} & \\textbf{std err} & \\textbf{t} & \\textbf{P$> |$t$|$} & \\textbf{[0.025} & \\textbf{0.975]}  \\\\\n\\midrule\n\\textbf{const} &       0.0066  &        0.004     &     1.604  &         0.111        &       -0.002    &        0.015     \\\\\n\\textbf{x1}    &       0.6438  &        0.065     &     9.864  &         0.000        &        0.515    &        0.773     \\\\\n\\bottomrule\n\\end{tabular}\n\\begin{tabular}{lclc}\n\\textbf{Omnibus:}       & 181.402 & \\textbf{  Durbin-Watson:     } &     1.959  \\\\\n\\textbf{Prob(Omnibus):} &   0.000 & \\textbf{  Jarque-Bera (JB):  } & 22086.353  \\\\\n\\textbf{Skew:}          &   4.660 & \\textbf{  Prob(JB):          } &      0.00  \\\\\n\\textbf{Kurtosis:}      &  65.201 & \\textbf{  Cond. No.          } &      107.  \\\\\n\\bottomrule\n\\end{tabular}\n%\\caption{WLS Regression Results}\n\\end{center}\n\nNotes: \\newline\n [1] Standard Errors assume that the covariance matrix of the errors is correctly specified."
          },
          "metadata": {},
          "execution_count": 62
        }
      ],
      "source": [
        "# WLS regression result\n",
        "\n",
        "# Add Absolute residuals and fitted values to dataset columns\n",
        "df3[\"abs_residuals2\"] = np.abs(model_2.resid)\n",
        "df3[\"fitted_values2\"] = model_2.fittedvalues\n",
        "\n",
        "# Fit OLS model with absolute residuals and fitted values\n",
        "model_temp2 = smf.ols(\"abs_residuals2 ~ fitted_values2\", data=df3).fit()\n",
        "\n",
        "# Compute weights and add it to the data_set column\n",
        "weights2 = model_temp2.fittedvalues\n",
        "weights2 = weights2**-2\n",
        "df3[\"weights2\"] = weights2\n",
        "\n",
        "# Fit WLS model\n",
        "Y = df3[\"Return_x\"].tolist()\n",
        "X = df3[\"Return_y\"].tolist()\n",
        "X = sm.add_constant(X)  # add a intercept point\n",
        "\n",
        "model_WLS2 = sm.WLS(Y, X, df3[\"weights2\"]).fit()\n",
        "model_WLS2.summary()"
      ]
    },
    {
      "cell_type": "code",
      "execution_count": 64,
      "id": "4623d8d1",
      "metadata": {
        "colab": {
          "base_uri": "https://localhost:8080/",
          "height": 388
        },
        "id": "4623d8d1",
        "outputId": "d7aae471-8106-433a-d1a6-524f60353a73"
      },
      "outputs": [
        {
          "output_type": "display_data",
          "data": {
            "text/plain": [
              "<Figure size 600x400 with 1 Axes>"
            ],
            "image/png": "[encoded data removed]"
          },
          "metadata": {}
        }
      ],
      "source": [
        "# WLS fitted values and standardized residuals\n",
        "fitted_valuesWLS2 = model_WLS2.fittedvalues\n",
        "model_residWLS2 = model_WLS2.resid\n",
        "std_model_residWLS2 = model_residWLS2 / model_residWLS2.std(ddof=1)\n",
        "plt.figure(figsize=(6, 4))\n",
        "# Plot WLS fitted v. vs standardized res. scatterplot\n",
        "plt.scatter(fitted_valuesWLS2, std_model_residWLS2)\n",
        "plt.xlabel(\"WLS fitted Values\")\n",
        "plt.ylabel(\"WLS Standardized Residuals\")\n",
        "plt.show()"
      ]
    },
    {
      "cell_type": "markdown",
      "id": "3813c64e",
      "metadata": {
        "id": "3813c64e"
      },
      "source": [
        "# Robust Regression -\n",
        "## Model3: Huber Method"
      ]
    },
    {
      "cell_type": "code",
      "execution_count": 65,
      "id": "e363beda",
      "metadata": {
        "colab": {
          "base_uri": "https://localhost:8080/",
          "height": 347
        },
        "id": "e363beda",
        "outputId": "8fad59c0-13ff-45f8-b6c9-27855878e750"
      },
      "outputs": [
        {
          "output_type": "execute_result",
          "data": {
            "text/plain": [
              "<class 'statsmodels.iolib.summary.Summary'>\n",
              "\"\"\"\n",
              "                    Robust linear Model Regression Results                    \n",
              "==============================================================================\n",
              "Dep. Variable:               Return_x   No. Observations:                  134\n",
              "Model:                            RLM   Df Residuals:                      132\n",
              "Method:                          IRLS   Df Model:                            1\n",
              "Norm:                          HuberT                                         \n",
              "Scale Est.:                       mad                                         \n",
              "Cov Type:                          H1                                         \n",
              "Date:                Tue, 30 Jul 2024                                         \n",
              "Time:                        21:49:19                                         \n",
              "No. Iterations:                    25                                         \n",
              "==============================================================================\n",
              "                 coef    std err          z      P>|z|      [0.025      0.975]\n",
              "------------------------------------------------------------------------------\n",
              "const          0.0010      0.001      0.969      0.332      -0.001       0.003\n",
              "Return_y       0.3774      0.034     11.181      0.000       0.311       0.444\n",
              "==============================================================================\n",
              "\n",
              "If the model instance has been used for another fit with different fit parameters, then the fit options might not be the correct ones anymore .\n",
              "\"\"\""
            ],
            "text/html": [
              "<table class=\"simpletable\">\n",
              "<caption>Robust linear Model Regression Results</caption>\n",
              "<tr>\n",
              "  <th>Dep. Variable:</th>      <td>Return_x</td>     <th>  No. Observations:  </th> <td>   134</td>\n",
              "</tr>\n",
              "<tr>\n",
              "  <th>Model:</th>                 <td>RLM</td>       <th>  Df Residuals:      </th> <td>   132</td>\n",
              "</tr>\n",
              "<tr>\n",
              "  <th>Method:</th>               <td>IRLS</td>       <th>  Df Model:          </th> <td>     1</td>\n",
              "</tr>\n",
              "<tr>\n",
              "  <th>Norm:</th>                <td>HuberT</td>      <th>                     </th>    <td> </td>  \n",
              "</tr>\n",
              "<tr>\n",
              "  <th>Scale Est.:</th>            <td>mad</td>       <th>                     </th>    <td> </td>  \n",
              "</tr>\n",
              "<tr>\n",
              "  <th>Cov Type:</th>              <td>H1</td>        <th>                     </th>    <td> </td>  \n",
              "</tr>\n",
              "<tr>\n",
              "  <th>Date:</th>           <td>Tue, 30 Jul 2024</td> <th>                     </th>    <td> </td>  \n",
              "</tr>\n",
              "<tr>\n",
              "  <th>Time:</th>               <td>21:49:19</td>     <th>                     </th>    <td> </td>  \n",
              "</tr>\n",
              "<tr>\n",
              "  <th>No. Iterations:</th>        <td>25</td>        <th>                     </th>    <td> </td>  \n",
              "</tr>\n",
              "</table>\n",
              "<table class=\"simpletable\">\n",
              "<tr>\n",
              "      <td></td>        <th>coef</th>     <th>std err</th>      <th>z</th>      <th>P>|z|</th>  <th>[0.025</th>    <th>0.975]</th>  \n",
              "</tr>\n",
              "<tr>\n",
              "  <th>const</th>    <td>    0.0010</td> <td>    0.001</td> <td>    0.969</td> <td> 0.332</td> <td>   -0.001</td> <td>    0.003</td>\n",
              "</tr>\n",
              "<tr>\n",
              "  <th>Return_y</th> <td>    0.3774</td> <td>    0.034</td> <td>   11.181</td> <td> 0.000</td> <td>    0.311</td> <td>    0.444</td>\n",
              "</tr>\n",
              "</table><br/><br/>If the model instance has been used for another fit with different fit parameters, then the fit options might not be the correct ones anymore ."
            ],
            "text/latex": "\\begin{center}\n\\begin{tabular}{lclc}\n\\toprule\n\\textbf{Dep. Variable:}  &    Return\\_x     & \\textbf{  No. Observations:  } &      134    \\\\\n\\textbf{Model:}          &       RLM        & \\textbf{  Df Residuals:      } &      132    \\\\\n\\textbf{Method:}         &       IRLS       & \\textbf{  Df Model:          } &        1    \\\\\n\\textbf{Norm:}           &      HuberT      & \\textbf{                     } &             \\\\\n\\textbf{Scale Est.:}     &       mad        & \\textbf{                     } &             \\\\\n\\textbf{Cov Type:}       &        H1        & \\textbf{                     } &             \\\\\n\\textbf{Date:}           & Tue, 30 Jul 2024 & \\textbf{                     } &             \\\\\n\\textbf{Time:}           &     21:49:19     & \\textbf{                     } &             \\\\\n\\textbf{No. Iterations:} &        25        & \\textbf{                     } &             \\\\\n\\bottomrule\n\\end{tabular}\n\\begin{tabular}{lcccccc}\n                   & \\textbf{coef} & \\textbf{std err} & \\textbf{z} & \\textbf{P$> |$z$|$} & \\textbf{[0.025} & \\textbf{0.975]}  \\\\\n\\midrule\n\\textbf{const}     &       0.0010  &        0.001     &     0.969  &         0.332        &       -0.001    &        0.003     \\\\\n\\textbf{Return\\_y} &       0.3774  &        0.034     &    11.181  &         0.000        &        0.311    &        0.444     \\\\\n\\bottomrule\n\\end{tabular}\n%\\caption{Robust linear Model Regression Results}\n\\end{center}\n\nIf the model instance has been used for another fit with different fit parameters, then the fit options might not be the correct ones anymore ."
          },
          "metadata": {},
          "execution_count": 65
        }
      ],
      "source": [
        "# Robust Regression model\n",
        "rr_huber2 = sm.RLM(\n",
        "    df3[\"Return_x\"], sm.add_constant(df3[\"Return_y\"]), M=sm.robust.norms.HuberT()\n",
        ")\n",
        "rr_huber_results2 = rr_huber2.fit()\n",
        "rr_huber_results2.summary()"
      ]
    },
    {
      "cell_type": "markdown",
      "id": "58fe08e8",
      "metadata": {
        "id": "58fe08e8"
      },
      "source": [
        "## Model4: Bisquare Method"
      ]
    },
    {
      "cell_type": "code",
      "execution_count": 66,
      "id": "0973ce6e",
      "metadata": {
        "colab": {
          "base_uri": "https://localhost:8080/",
          "height": 347
        },
        "id": "0973ce6e",
        "outputId": "50599961-f833-4e78-807a-ed52f6fa152e"
      },
      "outputs": [
        {
          "output_type": "execute_result",
          "data": {
            "text/plain": [
              "<class 'statsmodels.iolib.summary.Summary'>\n",
              "\"\"\"\n",
              "                    Robust linear Model Regression Results                    \n",
              "==============================================================================\n",
              "Dep. Variable:               Return_x   No. Observations:                  134\n",
              "Model:                            RLM   Df Residuals:                      132\n",
              "Method:                          IRLS   Df Model:                            1\n",
              "Norm:                   TukeyBiweight                                         \n",
              "Scale Est.:                       mad                                         \n",
              "Cov Type:                          H1                                         \n",
              "Date:                Tue, 30 Jul 2024                                         \n",
              "Time:                        21:49:39                                         \n",
              "No. Iterations:                    32                                         \n",
              "==============================================================================\n",
              "                 coef    std err          z      P>|z|      [0.025      0.975]\n",
              "------------------------------------------------------------------------------\n",
              "const          0.0010      0.001      0.966      0.334      -0.001       0.003\n",
              "Return_y       0.4535      0.033     13.812      0.000       0.389       0.518\n",
              "==============================================================================\n",
              "\n",
              "If the model instance has been used for another fit with different fit parameters, then the fit options might not be the correct ones anymore .\n",
              "\"\"\""
            ],
            "text/html": [
              "<table class=\"simpletable\">\n",
              "<caption>Robust linear Model Regression Results</caption>\n",
              "<tr>\n",
              "  <th>Dep. Variable:</th>      <td>Return_x</td>     <th>  No. Observations:  </th> <td>   134</td>\n",
              "</tr>\n",
              "<tr>\n",
              "  <th>Model:</th>                 <td>RLM</td>       <th>  Df Residuals:      </th> <td>   132</td>\n",
              "</tr>\n",
              "<tr>\n",
              "  <th>Method:</th>               <td>IRLS</td>       <th>  Df Model:          </th> <td>     1</td>\n",
              "</tr>\n",
              "<tr>\n",
              "  <th>Norm:</th>             <td>TukeyBiweight</td>  <th>                     </th>    <td> </td>  \n",
              "</tr>\n",
              "<tr>\n",
              "  <th>Scale Est.:</th>            <td>mad</td>       <th>                     </th>    <td> </td>  \n",
              "</tr>\n",
              "<tr>\n",
              "  <th>Cov Type:</th>              <td>H1</td>        <th>                     </th>    <td> </td>  \n",
              "</tr>\n",
              "<tr>\n",
              "  <th>Date:</th>           <td>Tue, 30 Jul 2024</td> <th>                     </th>    <td> </td>  \n",
              "</tr>\n",
              "<tr>\n",
              "  <th>Time:</th>               <td>21:49:39</td>     <th>                     </th>    <td> </td>  \n",
              "</tr>\n",
              "<tr>\n",
              "  <th>No. Iterations:</th>        <td>32</td>        <th>                     </th>    <td> </td>  \n",
              "</tr>\n",
              "</table>\n",
              "<table class=\"simpletable\">\n",
              "<tr>\n",
              "      <td></td>        <th>coef</th>     <th>std err</th>      <th>z</th>      <th>P>|z|</th>  <th>[0.025</th>    <th>0.975]</th>  \n",
              "</tr>\n",
              "<tr>\n",
              "  <th>const</th>    <td>    0.0010</td> <td>    0.001</td> <td>    0.966</td> <td> 0.334</td> <td>   -0.001</td> <td>    0.003</td>\n",
              "</tr>\n",
              "<tr>\n",
              "  <th>Return_y</th> <td>    0.4535</td> <td>    0.033</td> <td>   13.812</td> <td> 0.000</td> <td>    0.389</td> <td>    0.518</td>\n",
              "</tr>\n",
              "</table><br/><br/>If the model instance has been used for another fit with different fit parameters, then the fit options might not be the correct ones anymore ."
            ],
            "text/latex": "\\begin{center}\n\\begin{tabular}{lclc}\n\\toprule\n\\textbf{Dep. Variable:}  &    Return\\_x     & \\textbf{  No. Observations:  } &      134    \\\\\n\\textbf{Model:}          &       RLM        & \\textbf{  Df Residuals:      } &      132    \\\\\n\\textbf{Method:}         &       IRLS       & \\textbf{  Df Model:          } &        1    \\\\\n\\textbf{Norm:}           &  TukeyBiweight   & \\textbf{                     } &             \\\\\n\\textbf{Scale Est.:}     &       mad        & \\textbf{                     } &             \\\\\n\\textbf{Cov Type:}       &        H1        & \\textbf{                     } &             \\\\\n\\textbf{Date:}           & Tue, 30 Jul 2024 & \\textbf{                     } &             \\\\\n\\textbf{Time:}           &     21:49:39     & \\textbf{                     } &             \\\\\n\\textbf{No. Iterations:} &        32        & \\textbf{                     } &             \\\\\n\\bottomrule\n\\end{tabular}\n\\begin{tabular}{lcccccc}\n                   & \\textbf{coef} & \\textbf{std err} & \\textbf{z} & \\textbf{P$> |$z$|$} & \\textbf{[0.025} & \\textbf{0.975]}  \\\\\n\\midrule\n\\textbf{const}     &       0.0010  &        0.001     &     0.966  &         0.334        &       -0.001    &        0.003     \\\\\n\\textbf{Return\\_y} &       0.4535  &        0.033     &    13.812  &         0.000        &        0.389    &        0.518     \\\\\n\\bottomrule\n\\end{tabular}\n%\\caption{Robust linear Model Regression Results}\n\\end{center}\n\nIf the model instance has been used for another fit with different fit parameters, then the fit options might not be the correct ones anymore ."
          },
          "metadata": {},
          "execution_count": 66
        }
      ],
      "source": [
        "# Bisquare Method model\n",
        "rr_bisquare2 = sm.RLM(\n",
        "    df3[\"Return_x\"],\n",
        "    sm.add_constant(df3[\"Return_y\"]),\n",
        "    M=sm.robust.norms.TukeyBiweight(),\n",
        ")\n",
        "rr_bisquare_results2 = rr_bisquare2.fit()\n",
        "rr_bisquare_results2.summary()"
      ]
    },
    {
      "cell_type": "markdown",
      "id": "987e4014",
      "metadata": {
        "id": "987e4014"
      },
      "source": [
        "## Scatter Plot of Apple Daily Return and Meta Daily Return with Different Regression Lines"
      ]
    },
    {
      "cell_type": "code",
      "execution_count": 69,
      "id": "041ff364",
      "metadata": {
        "colab": {
          "base_uri": "https://localhost:8080/",
          "height": 410
        },
        "id": "041ff364",
        "outputId": "f47b3d57-5628-4401-e854-d6206001a921"
      },
      "outputs": [
        {
          "output_type": "display_data",
          "data": {
            "text/plain": [
              "<Figure size 700x400 with 1 Axes>"
            ],
            "image/png": "[encoded data removed]"
          },
          "metadata": {}
        }
      ],
      "source": [
        "# Scatter Plot of Returns with Different Regression Lines\n",
        "fig, ax = plt.subplots(figsize=(7, 4))\n",
        "# scatter-plot data\n",
        "scatt = df3.plot(x=\"Return_x\", y=\"Return_y\", kind=\"scatter\",ax=ax)\n",
        "scatt.set(xlabel=\"Apple Return\", ylabel=\"Meta Return\")\n",
        "\n",
        "# plot regression lines\n",
        "abline_plot(model_results=model_2, ax=scatt, color=\"blue\", label=\"OLS\")\n",
        "abline_plot(model_results=model_WLS2, ax=scatt, color=\"orange\", label=\"WLS\")\n",
        "abline_plot(model_results=rr_huber_results2, ax=scatt, color=\"green\", label=\"Huber\")\n",
        "abline_plot(model_results=rr_bisquare_results2, ax=scatt, color=\"red\", label=\"Bisquare\")\n",
        "plt.title(\"Scatter plot with Regression lines- Modified Dataset\")\n",
        "plt.legend(loc=\"lower right\")\n",
        "plt.show();"
      ]
    },
    {
      "cell_type": "raw",
      "id": "219cf2b6",
      "metadata": {
        "id": "219cf2b6"
      },
      "source": [
        "## Now we can see the effect outliers have on WLS and Bisquare Regression lines\n",
        "## ## lines, tilted upwards  whereas OLS is belowthese regression lines."
      ]
    },
    {
      "cell_type": "markdown",
      "source": [
        "# Thnks."
      ],
      "metadata": {
        "id": "7fcHqpmDpz-r"
      },
      "id": "7fcHqpmDpz-r"
    },
    {
      "cell_type": "code",
      "execution_count": null,
      "id": "cc885e4c",
      "metadata": {
        "id": "cc885e4c"
      },
      "outputs": [],
      "source": []
    }
  ],
  "metadata": {
    "colab": {
      "provenance": [],
      "include_colab_link": true
    },
    "kernelspec": {
      "display_name": "Python 3 (ipykernel)",
      "language": "python",
      "name": "python3"
    },
    "language_info": {
      "codemirror_mode": {
        "name": "ipython",
        "version": 3
      },
      "file_extension": ".py",
      "mimetype": "text/x-python",
      "name": "python",
      "nbconvert_exporter": "python",
      "pygments_lexer": "ipython3",
      "version": "3.9.13"
    }
  },
  "nbformat": 4,
  "nbformat_minor": 5
}